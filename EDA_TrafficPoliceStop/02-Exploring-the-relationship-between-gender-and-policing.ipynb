{
 "cells": [
  {
   "cell_type": "markdown",
   "metadata": {},
   "source": [
    "___\n",
    "\n",
    "<p style=\"text-align: center;\"><img src=\"https://docs.google.com/uc?id=1lY0Uj5R04yMY3-ZppPWxqCr5pvBLYPnV\" class=\"img-fluid\" alt=\"CLRSWY\"></p>\n",
    "\n",
    "___"
   ]
  },
  {
   "cell_type": "markdown",
   "metadata": {},
   "source": [
    "<h1><p style=\"text-align: center;\">Data Analysis with Python <br>Project - 1</p><h1> - Traffic Police Stops <img src=\"https://docs.google.com/uc?id=17CPCwi3_VvzcS87TOsh4_U8eExOhL6Ki\" class=\"img-fluid\" alt=\"CLRSWY\" width=\"200\" height=\"100\"> "
   ]
  },
  {
   "cell_type": "markdown",
   "metadata": {},
   "source": [
    "Does the ``gender`` of a driver have an impact on police behavior during a traffic stop? **In this chapter**, you will explore that question while practicing filtering, grouping, method chaining, Boolean math, string methods, and more!"
   ]
  },
  {
   "cell_type": "markdown",
   "metadata": {},
   "source": [
    "***"
   ]
  },
  {
   "cell_type": "markdown",
   "metadata": {},
   "source": [
    "## Examining traffic violations"
   ]
  },
  {
   "cell_type": "markdown",
   "metadata": {},
   "source": [
    "Before comparing the violations being committed by each gender, you should examine the ``violations`` committed by all drivers to get a baseline understanding of the data.\n",
    "\n",
    "In this exercise, you'll count the unique values in the ``violation`` column, and then separately express those counts as proportions."
   ]
  },
  {
   "cell_type": "markdown",
   "metadata": {},
   "source": [
    "> Before starting your work in this section **repeat the steps which you did in the previos chapter for preparing the data.** Continue to this chapter based on where you were in the end of the previous chapter."
   ]
  },
  {
   "cell_type": "code",
   "execution_count": 13,
   "metadata": {},
   "outputs": [
    {
     "name": "stderr",
     "output_type": "stream",
     "text": [
      "C:\\Users\\ata\\anaconda3\\lib\\site-packages\\IPython\\core\\interactiveshell.py:3166: DtypeWarning: Columns (8) have mixed types.Specify dtype option on import or set low_memory=False.\n",
      "  interactivity=interactivity, compiler=compiler, result=result)\n"
     ]
    }
   ],
   "source": [
    "import pandas as pd\n",
    "ri = pd.read_csv('RI_cleaned.csv', nrows=50000)\n",
    "drop_columns=[\"state\", \"county_name\", \"county_fips\", \"fine_grained_location\"]\n",
    "ri.drop(drop_columns, axis='columns', inplace=True)\n",
    "ri.dropna(subset=['driver_gender'], inplace=True)\n",
    "ri['is_arrested'] = ri.is_arrested.astype('bool')\n",
    "combined = ri.stop_date.str.cat(ri.stop_time, sep=' ')\n",
    "ri['stop_datetime'] = pd.to_datetime(combined)\n",
    "ri.drop([\"stop_date\", \"stop_time\"], axis='columns', inplace=True)\n",
    "ri.set_index('stop_datetime', inplace=True)"
   ]
  },
  {
   "cell_type": "code",
   "execution_count": 14,
   "metadata": {},
   "outputs": [],
   "source": [
    "ri.to_csv('RI_cleaned2.csv')"
   ]
  },
  {
   "cell_type": "code",
   "execution_count": 16,
   "metadata": {},
   "outputs": [
    {
     "data": {
      "text/html": [
       "<div>\n",
       "<style scoped>\n",
       "    .dataframe tbody tr th:only-of-type {\n",
       "        vertical-align: middle;\n",
       "    }\n",
       "\n",
       "    .dataframe tbody tr th {\n",
       "        vertical-align: top;\n",
       "    }\n",
       "\n",
       "    .dataframe thead th {\n",
       "        text-align: right;\n",
       "    }\n",
       "</style>\n",
       "<table border=\"1\" class=\"dataframe\">\n",
       "  <thead>\n",
       "    <tr style=\"text-align: right;\">\n",
       "      <th></th>\n",
       "      <th>id</th>\n",
       "      <th>location_raw</th>\n",
       "      <th>police_department</th>\n",
       "      <th>driver_gender</th>\n",
       "      <th>driver_age_raw</th>\n",
       "      <th>driver_age</th>\n",
       "      <th>driver_race_raw</th>\n",
       "      <th>driver_race</th>\n",
       "      <th>violation_raw</th>\n",
       "      <th>violation</th>\n",
       "      <th>search_conducted</th>\n",
       "      <th>search_type_raw</th>\n",
       "      <th>search_type</th>\n",
       "      <th>contraband_found</th>\n",
       "      <th>stop_outcome</th>\n",
       "      <th>is_arrested</th>\n",
       "      <th>stop_duration</th>\n",
       "      <th>out_of_state</th>\n",
       "      <th>drugs_related_stop</th>\n",
       "      <th>district</th>\n",
       "    </tr>\n",
       "    <tr>\n",
       "      <th>stop_datetime</th>\n",
       "      <th></th>\n",
       "      <th></th>\n",
       "      <th></th>\n",
       "      <th></th>\n",
       "      <th></th>\n",
       "      <th></th>\n",
       "      <th></th>\n",
       "      <th></th>\n",
       "      <th></th>\n",
       "      <th></th>\n",
       "      <th></th>\n",
       "      <th></th>\n",
       "      <th></th>\n",
       "      <th></th>\n",
       "      <th></th>\n",
       "      <th></th>\n",
       "      <th></th>\n",
       "      <th></th>\n",
       "      <th></th>\n",
       "      <th></th>\n",
       "    </tr>\n",
       "  </thead>\n",
       "  <tbody>\n",
       "    <tr>\n",
       "      <th>2005-01-02 01:55:00</th>\n",
       "      <td>RI-2005-00001</td>\n",
       "      <td>Zone K1</td>\n",
       "      <td>600</td>\n",
       "      <td>M</td>\n",
       "      <td>1985.0</td>\n",
       "      <td>20.0</td>\n",
       "      <td>W</td>\n",
       "      <td>White</td>\n",
       "      <td>Speeding</td>\n",
       "      <td>Speeding</td>\n",
       "      <td>False</td>\n",
       "      <td>NaN</td>\n",
       "      <td>NaN</td>\n",
       "      <td>False</td>\n",
       "      <td>Citation</td>\n",
       "      <td>False</td>\n",
       "      <td>0-15 Min</td>\n",
       "      <td>False</td>\n",
       "      <td>False</td>\n",
       "      <td>Zone K1</td>\n",
       "    </tr>\n",
       "    <tr>\n",
       "      <th>2005-01-02 20:30:00</th>\n",
       "      <td>RI-2005-00002</td>\n",
       "      <td>Zone X4</td>\n",
       "      <td>500</td>\n",
       "      <td>M</td>\n",
       "      <td>1987.0</td>\n",
       "      <td>18.0</td>\n",
       "      <td>W</td>\n",
       "      <td>White</td>\n",
       "      <td>Speeding</td>\n",
       "      <td>Speeding</td>\n",
       "      <td>False</td>\n",
       "      <td>NaN</td>\n",
       "      <td>NaN</td>\n",
       "      <td>False</td>\n",
       "      <td>Citation</td>\n",
       "      <td>False</td>\n",
       "      <td>16-30 Min</td>\n",
       "      <td>False</td>\n",
       "      <td>False</td>\n",
       "      <td>Zone X4</td>\n",
       "    </tr>\n",
       "  </tbody>\n",
       "</table>\n",
       "</div>"
      ],
      "text/plain": [
       "                                id location_raw police_department  \\\n",
       "stop_datetime                                                       \n",
       "2005-01-02 01:55:00  RI-2005-00001      Zone K1               600   \n",
       "2005-01-02 20:30:00  RI-2005-00002      Zone X4               500   \n",
       "\n",
       "                    driver_gender  driver_age_raw  driver_age driver_race_raw  \\\n",
       "stop_datetime                                                                   \n",
       "2005-01-02 01:55:00             M          1985.0        20.0               W   \n",
       "2005-01-02 20:30:00             M          1987.0        18.0               W   \n",
       "\n",
       "                    driver_race violation_raw violation  search_conducted  \\\n",
       "stop_datetime                                                               \n",
       "2005-01-02 01:55:00       White      Speeding  Speeding             False   \n",
       "2005-01-02 20:30:00       White      Speeding  Speeding             False   \n",
       "\n",
       "                    search_type_raw search_type  contraband_found  \\\n",
       "stop_datetime                                                       \n",
       "2005-01-02 01:55:00             NaN         NaN             False   \n",
       "2005-01-02 20:30:00             NaN         NaN             False   \n",
       "\n",
       "                    stop_outcome  is_arrested stop_duration out_of_state  \\\n",
       "stop_datetime                                                              \n",
       "2005-01-02 01:55:00     Citation        False      0-15 Min        False   \n",
       "2005-01-02 20:30:00     Citation        False     16-30 Min        False   \n",
       "\n",
       "                     drugs_related_stop district  \n",
       "stop_datetime                                     \n",
       "2005-01-02 01:55:00               False  Zone K1  \n",
       "2005-01-02 20:30:00               False  Zone X4  "
      ]
     },
     "execution_count": 16,
     "metadata": {},
     "output_type": "execute_result"
    }
   ],
   "source": [
    "ri.head(2)"
   ]
  },
  {
   "cell_type": "code",
   "execution_count": 17,
   "metadata": {},
   "outputs": [
    {
     "data": {
      "text/plain": [
       "(48010, 20)"
      ]
     },
     "execution_count": 17,
     "metadata": {},
     "output_type": "execute_result"
    }
   ],
   "source": [
    "ri.shape"
   ]
  },
  {
   "cell_type": "code",
   "execution_count": 18,
   "metadata": {},
   "outputs": [
    {
     "data": {
      "text/html": [
       "<div>\n",
       "<style scoped>\n",
       "    .dataframe tbody tr th:only-of-type {\n",
       "        vertical-align: middle;\n",
       "    }\n",
       "\n",
       "    .dataframe tbody tr th {\n",
       "        vertical-align: top;\n",
       "    }\n",
       "\n",
       "    .dataframe thead th {\n",
       "        text-align: right;\n",
       "    }\n",
       "</style>\n",
       "<table border=\"1\" class=\"dataframe\">\n",
       "  <thead>\n",
       "    <tr style=\"text-align: right;\">\n",
       "      <th></th>\n",
       "      <th>id</th>\n",
       "      <th>location_raw</th>\n",
       "      <th>police_department</th>\n",
       "      <th>driver_gender</th>\n",
       "      <th>driver_age_raw</th>\n",
       "      <th>driver_age</th>\n",
       "      <th>driver_race_raw</th>\n",
       "      <th>driver_race</th>\n",
       "      <th>violation_raw</th>\n",
       "      <th>violation</th>\n",
       "      <th>search_conducted</th>\n",
       "      <th>search_type_raw</th>\n",
       "      <th>search_type</th>\n",
       "      <th>contraband_found</th>\n",
       "      <th>stop_outcome</th>\n",
       "      <th>is_arrested</th>\n",
       "      <th>stop_duration</th>\n",
       "      <th>out_of_state</th>\n",
       "      <th>drugs_related_stop</th>\n",
       "      <th>district</th>\n",
       "    </tr>\n",
       "    <tr>\n",
       "      <th>stop_datetime</th>\n",
       "      <th></th>\n",
       "      <th></th>\n",
       "      <th></th>\n",
       "      <th></th>\n",
       "      <th></th>\n",
       "      <th></th>\n",
       "      <th></th>\n",
       "      <th></th>\n",
       "      <th></th>\n",
       "      <th></th>\n",
       "      <th></th>\n",
       "      <th></th>\n",
       "      <th></th>\n",
       "      <th></th>\n",
       "      <th></th>\n",
       "      <th></th>\n",
       "      <th></th>\n",
       "      <th></th>\n",
       "      <th></th>\n",
       "      <th></th>\n",
       "    </tr>\n",
       "  </thead>\n",
       "  <tbody>\n",
       "    <tr>\n",
       "      <th>2005-01-02 01:55:00</th>\n",
       "      <td>RI-2005-00001</td>\n",
       "      <td>Zone K1</td>\n",
       "      <td>600</td>\n",
       "      <td>M</td>\n",
       "      <td>1985.0</td>\n",
       "      <td>20.0</td>\n",
       "      <td>W</td>\n",
       "      <td>White</td>\n",
       "      <td>Speeding</td>\n",
       "      <td>Speeding</td>\n",
       "      <td>False</td>\n",
       "      <td>NaN</td>\n",
       "      <td>NaN</td>\n",
       "      <td>False</td>\n",
       "      <td>Citation</td>\n",
       "      <td>False</td>\n",
       "      <td>0-15 Min</td>\n",
       "      <td>False</td>\n",
       "      <td>False</td>\n",
       "      <td>Zone K1</td>\n",
       "    </tr>\n",
       "    <tr>\n",
       "      <th>2005-01-02 20:30:00</th>\n",
       "      <td>RI-2005-00002</td>\n",
       "      <td>Zone X4</td>\n",
       "      <td>500</td>\n",
       "      <td>M</td>\n",
       "      <td>1987.0</td>\n",
       "      <td>18.0</td>\n",
       "      <td>W</td>\n",
       "      <td>White</td>\n",
       "      <td>Speeding</td>\n",
       "      <td>Speeding</td>\n",
       "      <td>False</td>\n",
       "      <td>NaN</td>\n",
       "      <td>NaN</td>\n",
       "      <td>False</td>\n",
       "      <td>Citation</td>\n",
       "      <td>False</td>\n",
       "      <td>16-30 Min</td>\n",
       "      <td>False</td>\n",
       "      <td>False</td>\n",
       "      <td>Zone X4</td>\n",
       "    </tr>\n",
       "  </tbody>\n",
       "</table>\n",
       "</div>"
      ],
      "text/plain": [
       "                                id location_raw police_department  \\\n",
       "stop_datetime                                                       \n",
       "2005-01-02 01:55:00  RI-2005-00001      Zone K1               600   \n",
       "2005-01-02 20:30:00  RI-2005-00002      Zone X4               500   \n",
       "\n",
       "                    driver_gender  driver_age_raw  driver_age driver_race_raw  \\\n",
       "stop_datetime                                                                   \n",
       "2005-01-02 01:55:00             M          1985.0        20.0               W   \n",
       "2005-01-02 20:30:00             M          1987.0        18.0               W   \n",
       "\n",
       "                    driver_race violation_raw violation  search_conducted  \\\n",
       "stop_datetime                                                               \n",
       "2005-01-02 01:55:00       White      Speeding  Speeding             False   \n",
       "2005-01-02 20:30:00       White      Speeding  Speeding             False   \n",
       "\n",
       "                    search_type_raw search_type  contraband_found  \\\n",
       "stop_datetime                                                       \n",
       "2005-01-02 01:55:00             NaN         NaN             False   \n",
       "2005-01-02 20:30:00             NaN         NaN             False   \n",
       "\n",
       "                    stop_outcome  is_arrested stop_duration out_of_state  \\\n",
       "stop_datetime                                                              \n",
       "2005-01-02 01:55:00     Citation        False      0-15 Min        False   \n",
       "2005-01-02 20:30:00     Citation        False     16-30 Min        False   \n",
       "\n",
       "                     drugs_related_stop district  \n",
       "stop_datetime                                     \n",
       "2005-01-02 01:55:00               False  Zone K1  \n",
       "2005-01-02 20:30:00               False  Zone X4  "
      ]
     },
     "execution_count": 18,
     "metadata": {},
     "output_type": "execute_result"
    }
   ],
   "source": [
    "ri.head(2)"
   ]
  },
  {
   "cell_type": "code",
   "execution_count": 19,
   "metadata": {},
   "outputs": [
    {
     "data": {
      "text/plain": [
       "violation\n",
       "Equipment               3022\n",
       "Moving violation        6522\n",
       "Other                    892\n",
       "Registration/plates     1463\n",
       "Speeding               36111\n",
       "Name: violation, dtype: int64"
      ]
     },
     "execution_count": 19,
     "metadata": {},
     "output_type": "execute_result"
    }
   ],
   "source": [
    "ri.groupby('violation').violation.count()"
   ]
  },
  {
   "cell_type": "code",
   "execution_count": 20,
   "metadata": {},
   "outputs": [
    {
     "data": {
      "text/plain": [
       "Speeding               36111\n",
       "Moving violation        6522\n",
       "Equipment               3022\n",
       "Registration/plates     1463\n",
       "Other                    892\n",
       "Name: violation, dtype: int64"
      ]
     },
     "execution_count": 20,
     "metadata": {},
     "output_type": "execute_result"
    }
   ],
   "source": [
    "ri.violation.value_counts()"
   ]
  },
  {
   "cell_type": "code",
   "execution_count": 21,
   "metadata": {},
   "outputs": [
    {
     "data": {
      "text/html": [
       "<div>\n",
       "<style scoped>\n",
       "    .dataframe tbody tr th:only-of-type {\n",
       "        vertical-align: middle;\n",
       "    }\n",
       "\n",
       "    .dataframe tbody tr th {\n",
       "        vertical-align: top;\n",
       "    }\n",
       "\n",
       "    .dataframe thead th {\n",
       "        text-align: right;\n",
       "    }\n",
       "</style>\n",
       "<table border=\"1\" class=\"dataframe\">\n",
       "  <thead>\n",
       "    <tr style=\"text-align: right;\">\n",
       "      <th></th>\n",
       "      <th>violation</th>\n",
       "    </tr>\n",
       "    <tr>\n",
       "      <th>stop_datetime</th>\n",
       "      <th></th>\n",
       "    </tr>\n",
       "  </thead>\n",
       "  <tbody>\n",
       "    <tr>\n",
       "      <th>2005-01-02 01:55:00</th>\n",
       "      <td>Speeding</td>\n",
       "    </tr>\n",
       "    <tr>\n",
       "      <th>2005-01-02 20:30:00</th>\n",
       "      <td>Speeding</td>\n",
       "    </tr>\n",
       "    <tr>\n",
       "      <th>2005-01-04 12:55:00</th>\n",
       "      <td>Equipment</td>\n",
       "    </tr>\n",
       "    <tr>\n",
       "      <th>2005-01-06 01:30:00</th>\n",
       "      <td>Equipment</td>\n",
       "    </tr>\n",
       "    <tr>\n",
       "      <th>2005-01-12 08:05:00</th>\n",
       "      <td>Other</td>\n",
       "    </tr>\n",
       "    <tr>\n",
       "      <th>...</th>\n",
       "      <td>...</td>\n",
       "    </tr>\n",
       "    <tr>\n",
       "      <th>2006-08-08 22:45:00</th>\n",
       "      <td>Equipment</td>\n",
       "    </tr>\n",
       "    <tr>\n",
       "      <th>2006-08-08 22:45:00</th>\n",
       "      <td>Speeding</td>\n",
       "    </tr>\n",
       "    <tr>\n",
       "      <th>2006-08-08 22:53:00</th>\n",
       "      <td>Speeding</td>\n",
       "    </tr>\n",
       "    <tr>\n",
       "      <th>2006-08-08 23:00:00</th>\n",
       "      <td>Speeding</td>\n",
       "    </tr>\n",
       "    <tr>\n",
       "      <th>2006-08-08 23:00:00</th>\n",
       "      <td>Speeding</td>\n",
       "    </tr>\n",
       "  </tbody>\n",
       "</table>\n",
       "<p>48010 rows × 1 columns</p>\n",
       "</div>"
      ],
      "text/plain": [
       "                     violation\n",
       "stop_datetime                 \n",
       "2005-01-02 01:55:00   Speeding\n",
       "2005-01-02 20:30:00   Speeding\n",
       "2005-01-04 12:55:00  Equipment\n",
       "2005-01-06 01:30:00  Equipment\n",
       "2005-01-12 08:05:00      Other\n",
       "...                        ...\n",
       "2006-08-08 22:45:00  Equipment\n",
       "2006-08-08 22:45:00   Speeding\n",
       "2006-08-08 22:53:00   Speeding\n",
       "2006-08-08 23:00:00   Speeding\n",
       "2006-08-08 23:00:00   Speeding\n",
       "\n",
       "[48010 rows x 1 columns]"
      ]
     },
     "execution_count": 21,
     "metadata": {},
     "output_type": "execute_result"
    }
   ],
   "source": [
    "ri[['violation']]"
   ]
  },
  {
   "cell_type": "code",
   "execution_count": 22,
   "metadata": {},
   "outputs": [
    {
     "data": {
      "text/plain": [
       "Speeding               36111\n",
       "Moving violation        6522\n",
       "Equipment               3022\n",
       "Registration/plates     1463\n",
       "Other                    892\n",
       "Name: violation, dtype: int64"
      ]
     },
     "execution_count": 22,
     "metadata": {},
     "output_type": "execute_result"
    }
   ],
   "source": [
    "ri.violation.value_counts()"
   ]
  },
  {
   "cell_type": "code",
   "execution_count": 23,
   "metadata": {},
   "outputs": [
    {
     "data": {
      "text/plain": [
       "Speeding               0.752156\n",
       "Moving violation       0.135847\n",
       "Equipment              0.062945\n",
       "Registration/plates    0.030473\n",
       "Other                  0.018579\n",
       "Name: violation, dtype: float64"
      ]
     },
     "execution_count": 23,
     "metadata": {},
     "output_type": "execute_result"
    }
   ],
   "source": [
    "ri.violation.value_counts(normalize=True)"
   ]
  },
  {
   "cell_type": "code",
   "execution_count": 25,
   "metadata": {},
   "outputs": [
    {
     "data": {
      "text/plain": [
       "Speeding               75.0\n",
       "Moving violation       14.0\n",
       "Equipment               6.0\n",
       "Registration/plates     3.0\n",
       "Other                   2.0\n",
       "Name: violation, dtype: float64"
      ]
     },
     "execution_count": 25,
     "metadata": {},
     "output_type": "execute_result"
    }
   ],
   "source": [
    "round(ri.violation.value_counts(normalize=True) * 100)"
   ]
  },
  {
   "cell_type": "code",
   "execution_count": 26,
   "metadata": {},
   "outputs": [
    {
     "data": {
      "text/plain": [
       "48010"
      ]
     },
     "execution_count": 26,
     "metadata": {},
     "output_type": "execute_result"
    }
   ],
   "source": [
    "ri.driver_gender.value_counts().sum()"
   ]
  },
  {
   "cell_type": "code",
   "execution_count": 27,
   "metadata": {},
   "outputs": [],
   "source": [
    "female = ri[ri.driver_gender == 'F']"
   ]
  },
  {
   "cell_type": "code",
   "execution_count": 29,
   "metadata": {},
   "outputs": [
    {
     "data": {
      "text/html": [
       "<div>\n",
       "<style scoped>\n",
       "    .dataframe tbody tr th:only-of-type {\n",
       "        vertical-align: middle;\n",
       "    }\n",
       "\n",
       "    .dataframe tbody tr th {\n",
       "        vertical-align: top;\n",
       "    }\n",
       "\n",
       "    .dataframe thead th {\n",
       "        text-align: right;\n",
       "    }\n",
       "</style>\n",
       "<table border=\"1\" class=\"dataframe\">\n",
       "  <thead>\n",
       "    <tr style=\"text-align: right;\">\n",
       "      <th></th>\n",
       "      <th>id</th>\n",
       "      <th>location_raw</th>\n",
       "      <th>police_department</th>\n",
       "      <th>driver_gender</th>\n",
       "      <th>driver_age_raw</th>\n",
       "      <th>driver_age</th>\n",
       "      <th>driver_race_raw</th>\n",
       "      <th>driver_race</th>\n",
       "      <th>violation_raw</th>\n",
       "      <th>violation</th>\n",
       "      <th>search_conducted</th>\n",
       "      <th>search_type_raw</th>\n",
       "      <th>search_type</th>\n",
       "      <th>contraband_found</th>\n",
       "      <th>stop_outcome</th>\n",
       "      <th>is_arrested</th>\n",
       "      <th>stop_duration</th>\n",
       "      <th>out_of_state</th>\n",
       "      <th>drugs_related_stop</th>\n",
       "      <th>district</th>\n",
       "    </tr>\n",
       "    <tr>\n",
       "      <th>stop_datetime</th>\n",
       "      <th></th>\n",
       "      <th></th>\n",
       "      <th></th>\n",
       "      <th></th>\n",
       "      <th></th>\n",
       "      <th></th>\n",
       "      <th></th>\n",
       "      <th></th>\n",
       "      <th></th>\n",
       "      <th></th>\n",
       "      <th></th>\n",
       "      <th></th>\n",
       "      <th></th>\n",
       "      <th></th>\n",
       "      <th></th>\n",
       "      <th></th>\n",
       "      <th></th>\n",
       "      <th></th>\n",
       "      <th></th>\n",
       "      <th></th>\n",
       "    </tr>\n",
       "  </thead>\n",
       "  <tbody>\n",
       "    <tr>\n",
       "      <th>2005-02-24 01:20:00</th>\n",
       "      <td>RI-2005-00016</td>\n",
       "      <td>Zone X3</td>\n",
       "      <td>200</td>\n",
       "      <td>F</td>\n",
       "      <td>1983.0</td>\n",
       "      <td>22.0</td>\n",
       "      <td>W</td>\n",
       "      <td>White</td>\n",
       "      <td>Speeding</td>\n",
       "      <td>Speeding</td>\n",
       "      <td>False</td>\n",
       "      <td>NaN</td>\n",
       "      <td>NaN</td>\n",
       "      <td>False</td>\n",
       "      <td>Citation</td>\n",
       "      <td>False</td>\n",
       "      <td>0-15 Min</td>\n",
       "      <td>True</td>\n",
       "      <td>False</td>\n",
       "      <td>Zone X3</td>\n",
       "    </tr>\n",
       "    <tr>\n",
       "      <th>2005-03-14 10:00:00</th>\n",
       "      <td>RI-2005-00019</td>\n",
       "      <td>Zone K3</td>\n",
       "      <td>300</td>\n",
       "      <td>F</td>\n",
       "      <td>1984.0</td>\n",
       "      <td>21.0</td>\n",
       "      <td>W</td>\n",
       "      <td>White</td>\n",
       "      <td>Speeding</td>\n",
       "      <td>Speeding</td>\n",
       "      <td>False</td>\n",
       "      <td>NaN</td>\n",
       "      <td>NaN</td>\n",
       "      <td>False</td>\n",
       "      <td>Citation</td>\n",
       "      <td>False</td>\n",
       "      <td>0-15 Min</td>\n",
       "      <td>False</td>\n",
       "      <td>False</td>\n",
       "      <td>Zone K3</td>\n",
       "    </tr>\n",
       "  </tbody>\n",
       "</table>\n",
       "</div>"
      ],
      "text/plain": [
       "                                id location_raw police_department  \\\n",
       "stop_datetime                                                       \n",
       "2005-02-24 01:20:00  RI-2005-00016      Zone X3               200   \n",
       "2005-03-14 10:00:00  RI-2005-00019      Zone K3               300   \n",
       "\n",
       "                    driver_gender  driver_age_raw  driver_age driver_race_raw  \\\n",
       "stop_datetime                                                                   \n",
       "2005-02-24 01:20:00             F          1983.0        22.0               W   \n",
       "2005-03-14 10:00:00             F          1984.0        21.0               W   \n",
       "\n",
       "                    driver_race violation_raw violation  search_conducted  \\\n",
       "stop_datetime                                                               \n",
       "2005-02-24 01:20:00       White      Speeding  Speeding             False   \n",
       "2005-03-14 10:00:00       White      Speeding  Speeding             False   \n",
       "\n",
       "                    search_type_raw search_type  contraband_found  \\\n",
       "stop_datetime                                                       \n",
       "2005-02-24 01:20:00             NaN         NaN             False   \n",
       "2005-03-14 10:00:00             NaN         NaN             False   \n",
       "\n",
       "                    stop_outcome  is_arrested stop_duration out_of_state  \\\n",
       "stop_datetime                                                              \n",
       "2005-02-24 01:20:00     Citation        False      0-15 Min         True   \n",
       "2005-03-14 10:00:00     Citation        False      0-15 Min        False   \n",
       "\n",
       "                     drugs_related_stop district  \n",
       "stop_datetime                                     \n",
       "2005-02-24 01:20:00               False  Zone X3  \n",
       "2005-03-14 10:00:00               False  Zone K3  "
      ]
     },
     "execution_count": 29,
     "metadata": {},
     "output_type": "execute_result"
    }
   ],
   "source": [
    "female.head(2)"
   ]
  },
  {
   "cell_type": "code",
   "execution_count": 30,
   "metadata": {},
   "outputs": [
    {
     "data": {
      "text/plain": [
       "13309"
      ]
     },
     "execution_count": 30,
     "metadata": {},
     "output_type": "execute_result"
    }
   ],
   "source": [
    "female['driver_gender'].count()"
   ]
  },
  {
   "cell_type": "code",
   "execution_count": 31,
   "metadata": {},
   "outputs": [],
   "source": [
    "male = ri[ri.driver_gender == 'M']"
   ]
  },
  {
   "cell_type": "code",
   "execution_count": 32,
   "metadata": {},
   "outputs": [
    {
     "data": {
      "text/plain": [
       "34701"
      ]
     },
     "execution_count": 32,
     "metadata": {},
     "output_type": "execute_result"
    }
   ],
   "source": [
    "male['driver_gender'].count()"
   ]
  },
  {
   "cell_type": "code",
   "execution_count": 33,
   "metadata": {},
   "outputs": [
    {
     "data": {
      "text/plain": [
       "Speeding               81.0\n",
       "Moving violation       10.0\n",
       "Equipment               5.0\n",
       "Registration/plates     3.0\n",
       "Other                   2.0\n",
       "Name: violation, dtype: float64"
      ]
     },
     "execution_count": 33,
     "metadata": {},
     "output_type": "execute_result"
    }
   ],
   "source": [
    "round(female.violation.value_counts(normalize=True) * 100)"
   ]
  },
  {
   "cell_type": "code",
   "execution_count": 34,
   "metadata": {},
   "outputs": [
    {
     "data": {
      "text/plain": [
       "Speeding               73.0\n",
       "Moving violation       15.0\n",
       "Equipment               7.0\n",
       "Registration/plates     3.0\n",
       "Other                   2.0\n",
       "Name: violation, dtype: float64"
      ]
     },
     "execution_count": 34,
     "metadata": {},
     "output_type": "execute_result"
    }
   ],
   "source": [
    "round(male.violation.value_counts(normalize=True) * 100)"
   ]
  },
  {
   "cell_type": "markdown",
   "metadata": {},
   "source": [
    "**INSTRUCTIONS**\n",
    "\n",
    "*   Count the unique values in the ``violation`` column, to see what violations are being committed by all drivers.\n",
    "*   Express the violation counts as proportions of the total."
   ]
  },
  {
   "cell_type": "markdown",
   "metadata": {},
   "source": [
    "***"
   ]
  },
  {
   "cell_type": "markdown",
   "metadata": {},
   "source": [
    "## Comparing violations by gender"
   ]
  },
  {
   "cell_type": "markdown",
   "metadata": {},
   "source": [
    "The question we're trying to answer is whether male and female drivers tend to commit different types of traffic violations.\n",
    "\n",
    "You'll first create a ``DataFrame`` for each gender, and then analyze the ``violations`` in each ``DataFrame`` separately."
   ]
  },
  {
   "cell_type": "markdown",
   "metadata": {},
   "source": [
    "**INSTRUCTIONS**\n",
    "\n",
    "*   Create a ``DataFrame``, female, that only contains rows in which ``driver_gender`` is ``'F'``.\n",
    "*   Create a ``DataFrame``, male, that only contains rows in which ``driver_gender`` is ``'M'``.\n",
    "*   Count the ``violations`` committed by female drivers and express them as proportions.\n",
    "*   Count the violations committed by male drivers and express them as proportions."
   ]
  },
  {
   "cell_type": "code",
   "execution_count": 35,
   "metadata": {},
   "outputs": [],
   "source": [
    "female_and_speedig = ri[(ri.driver_gender == 'F') & (ri.violation == 'Speeding')]"
   ]
  },
  {
   "cell_type": "code",
   "execution_count": 37,
   "metadata": {
    "scrolled": false
   },
   "outputs": [
    {
     "data": {
      "text/html": [
       "<div>\n",
       "<style scoped>\n",
       "    .dataframe tbody tr th:only-of-type {\n",
       "        vertical-align: middle;\n",
       "    }\n",
       "\n",
       "    .dataframe tbody tr th {\n",
       "        vertical-align: top;\n",
       "    }\n",
       "\n",
       "    .dataframe thead th {\n",
       "        text-align: right;\n",
       "    }\n",
       "</style>\n",
       "<table border=\"1\" class=\"dataframe\">\n",
       "  <thead>\n",
       "    <tr style=\"text-align: right;\">\n",
       "      <th></th>\n",
       "      <th>id</th>\n",
       "      <th>location_raw</th>\n",
       "      <th>police_department</th>\n",
       "      <th>driver_gender</th>\n",
       "      <th>driver_age_raw</th>\n",
       "      <th>driver_age</th>\n",
       "      <th>driver_race_raw</th>\n",
       "      <th>driver_race</th>\n",
       "      <th>violation_raw</th>\n",
       "      <th>violation</th>\n",
       "      <th>search_conducted</th>\n",
       "      <th>search_type_raw</th>\n",
       "      <th>search_type</th>\n",
       "      <th>contraband_found</th>\n",
       "      <th>stop_outcome</th>\n",
       "      <th>is_arrested</th>\n",
       "      <th>stop_duration</th>\n",
       "      <th>out_of_state</th>\n",
       "      <th>drugs_related_stop</th>\n",
       "      <th>district</th>\n",
       "    </tr>\n",
       "    <tr>\n",
       "      <th>stop_datetime</th>\n",
       "      <th></th>\n",
       "      <th></th>\n",
       "      <th></th>\n",
       "      <th></th>\n",
       "      <th></th>\n",
       "      <th></th>\n",
       "      <th></th>\n",
       "      <th></th>\n",
       "      <th></th>\n",
       "      <th></th>\n",
       "      <th></th>\n",
       "      <th></th>\n",
       "      <th></th>\n",
       "      <th></th>\n",
       "      <th></th>\n",
       "      <th></th>\n",
       "      <th></th>\n",
       "      <th></th>\n",
       "      <th></th>\n",
       "      <th></th>\n",
       "    </tr>\n",
       "  </thead>\n",
       "  <tbody>\n",
       "    <tr>\n",
       "      <th>2005-02-24 01:20:00</th>\n",
       "      <td>RI-2005-00016</td>\n",
       "      <td>Zone X3</td>\n",
       "      <td>200</td>\n",
       "      <td>F</td>\n",
       "      <td>1983.0</td>\n",
       "      <td>22.0</td>\n",
       "      <td>W</td>\n",
       "      <td>White</td>\n",
       "      <td>Speeding</td>\n",
       "      <td>Speeding</td>\n",
       "      <td>False</td>\n",
       "      <td>NaN</td>\n",
       "      <td>NaN</td>\n",
       "      <td>False</td>\n",
       "      <td>Citation</td>\n",
       "      <td>False</td>\n",
       "      <td>0-15 Min</td>\n",
       "      <td>True</td>\n",
       "      <td>False</td>\n",
       "      <td>Zone X3</td>\n",
       "    </tr>\n",
       "    <tr>\n",
       "      <th>2005-03-14 10:00:00</th>\n",
       "      <td>RI-2005-00019</td>\n",
       "      <td>Zone K3</td>\n",
       "      <td>300</td>\n",
       "      <td>F</td>\n",
       "      <td>1984.0</td>\n",
       "      <td>21.0</td>\n",
       "      <td>W</td>\n",
       "      <td>White</td>\n",
       "      <td>Speeding</td>\n",
       "      <td>Speeding</td>\n",
       "      <td>False</td>\n",
       "      <td>NaN</td>\n",
       "      <td>NaN</td>\n",
       "      <td>False</td>\n",
       "      <td>Citation</td>\n",
       "      <td>False</td>\n",
       "      <td>0-15 Min</td>\n",
       "      <td>False</td>\n",
       "      <td>False</td>\n",
       "      <td>Zone K3</td>\n",
       "    </tr>\n",
       "  </tbody>\n",
       "</table>\n",
       "</div>"
      ],
      "text/plain": [
       "                                id location_raw police_department  \\\n",
       "stop_datetime                                                       \n",
       "2005-02-24 01:20:00  RI-2005-00016      Zone X3               200   \n",
       "2005-03-14 10:00:00  RI-2005-00019      Zone K3               300   \n",
       "\n",
       "                    driver_gender  driver_age_raw  driver_age driver_race_raw  \\\n",
       "stop_datetime                                                                   \n",
       "2005-02-24 01:20:00             F          1983.0        22.0               W   \n",
       "2005-03-14 10:00:00             F          1984.0        21.0               W   \n",
       "\n",
       "                    driver_race violation_raw violation  search_conducted  \\\n",
       "stop_datetime                                                               \n",
       "2005-02-24 01:20:00       White      Speeding  Speeding             False   \n",
       "2005-03-14 10:00:00       White      Speeding  Speeding             False   \n",
       "\n",
       "                    search_type_raw search_type  contraband_found  \\\n",
       "stop_datetime                                                       \n",
       "2005-02-24 01:20:00             NaN         NaN             False   \n",
       "2005-03-14 10:00:00             NaN         NaN             False   \n",
       "\n",
       "                    stop_outcome  is_arrested stop_duration out_of_state  \\\n",
       "stop_datetime                                                              \n",
       "2005-02-24 01:20:00     Citation        False      0-15 Min         True   \n",
       "2005-03-14 10:00:00     Citation        False      0-15 Min        False   \n",
       "\n",
       "                     drugs_related_stop district  \n",
       "stop_datetime                                     \n",
       "2005-02-24 01:20:00               False  Zone X3  \n",
       "2005-03-14 10:00:00               False  Zone K3  "
      ]
     },
     "execution_count": 37,
     "metadata": {},
     "output_type": "execute_result"
    }
   ],
   "source": [
    "female_and_speedig.head(2)"
   ]
  },
  {
   "cell_type": "code",
   "execution_count": 40,
   "metadata": {},
   "outputs": [],
   "source": [
    "male_and_speedig = ri[(ri.driver_gender == 'M') & (ri.violation == 'Speeding')]"
   ]
  },
  {
   "cell_type": "code",
   "execution_count": 39,
   "metadata": {
    "scrolled": true
   },
   "outputs": [
    {
     "data": {
      "text/html": [
       "<div>\n",
       "<style scoped>\n",
       "    .dataframe tbody tr th:only-of-type {\n",
       "        vertical-align: middle;\n",
       "    }\n",
       "\n",
       "    .dataframe tbody tr th {\n",
       "        vertical-align: top;\n",
       "    }\n",
       "\n",
       "    .dataframe thead th {\n",
       "        text-align: right;\n",
       "    }\n",
       "</style>\n",
       "<table border=\"1\" class=\"dataframe\">\n",
       "  <thead>\n",
       "    <tr style=\"text-align: right;\">\n",
       "      <th></th>\n",
       "      <th>id</th>\n",
       "      <th>location_raw</th>\n",
       "      <th>police_department</th>\n",
       "      <th>driver_gender</th>\n",
       "      <th>driver_age_raw</th>\n",
       "      <th>driver_age</th>\n",
       "      <th>driver_race_raw</th>\n",
       "      <th>driver_race</th>\n",
       "      <th>violation_raw</th>\n",
       "      <th>violation</th>\n",
       "      <th>search_conducted</th>\n",
       "      <th>search_type_raw</th>\n",
       "      <th>search_type</th>\n",
       "      <th>contraband_found</th>\n",
       "      <th>stop_outcome</th>\n",
       "      <th>is_arrested</th>\n",
       "      <th>stop_duration</th>\n",
       "      <th>out_of_state</th>\n",
       "      <th>drugs_related_stop</th>\n",
       "      <th>district</th>\n",
       "    </tr>\n",
       "    <tr>\n",
       "      <th>stop_datetime</th>\n",
       "      <th></th>\n",
       "      <th></th>\n",
       "      <th></th>\n",
       "      <th></th>\n",
       "      <th></th>\n",
       "      <th></th>\n",
       "      <th></th>\n",
       "      <th></th>\n",
       "      <th></th>\n",
       "      <th></th>\n",
       "      <th></th>\n",
       "      <th></th>\n",
       "      <th></th>\n",
       "      <th></th>\n",
       "      <th></th>\n",
       "      <th></th>\n",
       "      <th></th>\n",
       "      <th></th>\n",
       "      <th></th>\n",
       "      <th></th>\n",
       "    </tr>\n",
       "  </thead>\n",
       "  <tbody>\n",
       "    <tr>\n",
       "      <th>2005-01-02 01:55:00</th>\n",
       "      <td>RI-2005-00001</td>\n",
       "      <td>Zone K1</td>\n",
       "      <td>600</td>\n",
       "      <td>M</td>\n",
       "      <td>1985.0</td>\n",
       "      <td>20.0</td>\n",
       "      <td>W</td>\n",
       "      <td>White</td>\n",
       "      <td>Speeding</td>\n",
       "      <td>Speeding</td>\n",
       "      <td>False</td>\n",
       "      <td>NaN</td>\n",
       "      <td>NaN</td>\n",
       "      <td>False</td>\n",
       "      <td>Citation</td>\n",
       "      <td>False</td>\n",
       "      <td>0-15 Min</td>\n",
       "      <td>False</td>\n",
       "      <td>False</td>\n",
       "      <td>Zone K1</td>\n",
       "    </tr>\n",
       "    <tr>\n",
       "      <th>2005-01-02 20:30:00</th>\n",
       "      <td>RI-2005-00002</td>\n",
       "      <td>Zone X4</td>\n",
       "      <td>500</td>\n",
       "      <td>M</td>\n",
       "      <td>1987.0</td>\n",
       "      <td>18.0</td>\n",
       "      <td>W</td>\n",
       "      <td>White</td>\n",
       "      <td>Speeding</td>\n",
       "      <td>Speeding</td>\n",
       "      <td>False</td>\n",
       "      <td>NaN</td>\n",
       "      <td>NaN</td>\n",
       "      <td>False</td>\n",
       "      <td>Citation</td>\n",
       "      <td>False</td>\n",
       "      <td>16-30 Min</td>\n",
       "      <td>False</td>\n",
       "      <td>False</td>\n",
       "      <td>Zone X4</td>\n",
       "    </tr>\n",
       "  </tbody>\n",
       "</table>\n",
       "</div>"
      ],
      "text/plain": [
       "                                id location_raw police_department  \\\n",
       "stop_datetime                                                       \n",
       "2005-01-02 01:55:00  RI-2005-00001      Zone K1               600   \n",
       "2005-01-02 20:30:00  RI-2005-00002      Zone X4               500   \n",
       "\n",
       "                    driver_gender  driver_age_raw  driver_age driver_race_raw  \\\n",
       "stop_datetime                                                                   \n",
       "2005-01-02 01:55:00             M          1985.0        20.0               W   \n",
       "2005-01-02 20:30:00             M          1987.0        18.0               W   \n",
       "\n",
       "                    driver_race violation_raw violation  search_conducted  \\\n",
       "stop_datetime                                                               \n",
       "2005-01-02 01:55:00       White      Speeding  Speeding             False   \n",
       "2005-01-02 20:30:00       White      Speeding  Speeding             False   \n",
       "\n",
       "                    search_type_raw search_type  contraband_found  \\\n",
       "stop_datetime                                                       \n",
       "2005-01-02 01:55:00             NaN         NaN             False   \n",
       "2005-01-02 20:30:00             NaN         NaN             False   \n",
       "\n",
       "                    stop_outcome  is_arrested stop_duration out_of_state  \\\n",
       "stop_datetime                                                              \n",
       "2005-01-02 01:55:00     Citation        False      0-15 Min        False   \n",
       "2005-01-02 20:30:00     Citation        False     16-30 Min        False   \n",
       "\n",
       "                     drugs_related_stop district  \n",
       "stop_datetime                                     \n",
       "2005-01-02 01:55:00               False  Zone K1  \n",
       "2005-01-02 20:30:00               False  Zone X4  "
      ]
     },
     "execution_count": 39,
     "metadata": {},
     "output_type": "execute_result"
    }
   ],
   "source": [
    "male_and_speedig.head(2)"
   ]
  },
  {
   "cell_type": "markdown",
   "metadata": {},
   "source": [
    "## Comparing speeding outcomes by gender"
   ]
  },
  {
   "cell_type": "markdown",
   "metadata": {},
   "source": [
    "***"
   ]
  },
  {
   "cell_type": "markdown",
   "metadata": {},
   "source": [
    "When a driver is pulled over for speeding, many people believe that gender has an impact on whether the driver will receive a ticket or a warning. Can you find evidence of this in the dataset?\n",
    "\n",
    "First, you'll create two ``DataFrames`` of drivers who were stopped for ``speeding``: one containing ***females*** and the other containing ***males***.\n",
    "\n",
    "Then, for each **gender**, you'll use the ``stop_outcome`` column to calculate what percentage of stops resulted in a ``\"Citation\"`` (meaning a ticket) versus a ``\"Warning\"``."
   ]
  },
  {
   "cell_type": "markdown",
   "metadata": {},
   "source": [
    "**INSTRUCTIONS**\n",
    "\n",
    "*   Create a ``DataFrame``, ``female_and_speeding``, that only includes female drivers who were stopped for speeding.\n",
    "*   Create a ``DataFrame``, ``male_and_speeding``, that only includes male drivers who were stopped for speeding.\n",
    "*   Count the **stop outcomes** for the female drivers and express them as proportions.\n",
    "*   Count the **stop outcomes** for the male drivers and express them as proportions."
   ]
  },
  {
   "cell_type": "code",
   "execution_count": 50,
   "metadata": {},
   "outputs": [
    {
     "data": {
      "text/plain": [
       "Citation            97.34\n",
       "Warning              1.30\n",
       "Arrest Driver        0.74\n",
       "N/D                  0.36\n",
       "Arrest Passenger     0.23\n",
       "No Action            0.03\n",
       "Name: stop_outcome, dtype: float64"
      ]
     },
     "execution_count": 50,
     "metadata": {},
     "output_type": "execute_result"
    }
   ],
   "source": [
    "round(female_and_speedig.stop_outcome.value_counts(normalize=True) * 100, 2)"
   ]
  },
  {
   "cell_type": "code",
   "execution_count": 51,
   "metadata": {},
   "outputs": [
    {
     "data": {
      "text/plain": [
       "Citation            95.73\n",
       "Arrest Driver        2.62\n",
       "Warning              1.07\n",
       "N/D                  0.34\n",
       "Arrest Passenger     0.20\n",
       "No Action            0.04\n",
       "Name: stop_outcome, dtype: float64"
      ]
     },
     "execution_count": 51,
     "metadata": {},
     "output_type": "execute_result"
    }
   ],
   "source": [
    "round(male_and_speedig.stop_outcome.value_counts(normalize=True) * 100, 2)"
   ]
  },
  {
   "cell_type": "markdown",
   "metadata": {},
   "source": [
    "***"
   ]
  },
  {
   "cell_type": "markdown",
   "metadata": {},
   "source": [
    "## Calculating the search rate"
   ]
  },
  {
   "cell_type": "markdown",
   "metadata": {},
   "source": [
    "During a traffic stop, the police officer sometimes conducts a search of the vehicle. In this exercise, you'll calculate the percentage of all stops that result in a vehicle search, also known as the **search rate**."
   ]
  },
  {
   "cell_type": "markdown",
   "metadata": {},
   "source": [
    "**INSTRUCTIONS**\n",
    "\n",
    "*   Check the data type of ``search_conducted`` to confirm that it's a ``Boolean Series``.\n",
    "*   Calculate the search rate by counting the ``Series`` values and expressing them as proportions.\n",
    "*   Calculate the search rate by taking the mean of the ``Series``. (It should match the proportion of ``True`` values calculated above.)"
   ]
  },
  {
   "cell_type": "code",
   "execution_count": 52,
   "metadata": {},
   "outputs": [
    {
     "data": {
      "text/plain": [
       "dtype('bool')"
      ]
     },
     "execution_count": 52,
     "metadata": {},
     "output_type": "execute_result"
    }
   ],
   "source": [
    "ri.search_conducted.dtype  "
   ]
  },
  {
   "cell_type": "code",
   "execution_count": 53,
   "metadata": {},
   "outputs": [
    {
     "data": {
      "text/plain": [
       "False    45998\n",
       "True      2012\n",
       "Name: search_conducted, dtype: int64"
      ]
     },
     "execution_count": 53,
     "metadata": {},
     "output_type": "execute_result"
    }
   ],
   "source": [
    "ri.search_conducted.value_counts()"
   ]
  },
  {
   "cell_type": "code",
   "execution_count": 54,
   "metadata": {},
   "outputs": [
    {
     "data": {
      "text/plain": [
       "False    95.81\n",
       "True      4.19\n",
       "Name: search_conducted, dtype: float64"
      ]
     },
     "execution_count": 54,
     "metadata": {},
     "output_type": "execute_result"
    }
   ],
   "source": [
    "round(ri.search_conducted.value_counts(normalize=True) * 100, 2)"
   ]
  },
  {
   "cell_type": "code",
   "execution_count": 55,
   "metadata": {},
   "outputs": [
    {
     "data": {
      "text/plain": [
       "4.19"
      ]
     },
     "execution_count": 55,
     "metadata": {},
     "output_type": "execute_result"
    }
   ],
   "source": [
    "# burda mean alirsak o da truelarin ortalamasini verir sadece\n",
    "round(ri.search_conducted.mean() * 100, 2)"
   ]
  },
  {
   "cell_type": "code",
   "execution_count": 56,
   "metadata": {},
   "outputs": [
    {
     "data": {
      "text/plain": [
       "5.12"
      ]
     },
     "execution_count": 56,
     "metadata": {},
     "output_type": "execute_result"
    }
   ],
   "source": [
    "round(male.search_conducted.mean() * 100, 2)"
   ]
  },
  {
   "cell_type": "code",
   "execution_count": 57,
   "metadata": {},
   "outputs": [
    {
     "data": {
      "text/plain": [
       "1.78"
      ]
     },
     "execution_count": 57,
     "metadata": {},
     "output_type": "execute_result"
    }
   ],
   "source": [
    "round(female.search_conducted.mean() * 100, 2)"
   ]
  },
  {
   "cell_type": "markdown",
   "metadata": {},
   "source": [
    "***"
   ]
  },
  {
   "cell_type": "markdown",
   "metadata": {},
   "source": [
    "## Comparing search rates by gender"
   ]
  },
  {
   "cell_type": "markdown",
   "metadata": {},
   "source": [
    "You'll compare the rates at which **female** and **male** drivers are searched during a traffic stop. Remember that the vehicle search rate across all stops is about **3.8%**.\n",
    "\n",
    "First, you'll filter the ``DataFrame`` by gender and calculate the search rate for each group separately. Then, you'll perform the same calculation for both genders at once using a ``.groupby()``."
   ]
  },
  {
   "cell_type": "markdown",
   "metadata": {},
   "source": [
    "**INSTRUCTIONS 1/3**\n",
    "\n",
    "*   Filter the ``DataFrame`` to only include **female** drivers, and then calculate the search rate by taking the mean of ``search_conducted``."
   ]
  },
  {
   "cell_type": "code",
   "execution_count": 58,
   "metadata": {},
   "outputs": [
    {
     "data": {
      "text/plain": [
       "array(['M', 'F'], dtype=object)"
      ]
     },
     "execution_count": 58,
     "metadata": {},
     "output_type": "execute_result"
    }
   ],
   "source": [
    "ri.driver_gender.unique()"
   ]
  },
  {
   "cell_type": "markdown",
   "metadata": {},
   "source": [
    "**INSTRUCTIONS 2/3**\n",
    "\n",
    "*   Filter the ``DataFrame`` to only include **male** drivers, and then repeat the search rate calculation."
   ]
  },
  {
   "cell_type": "code",
   "execution_count": 59,
   "metadata": {},
   "outputs": [
    {
     "data": {
      "text/plain": [
       "driver_gender\n",
       "F    1.78\n",
       "M    5.12\n",
       "Name: search_conducted, dtype: float64"
      ]
     },
     "execution_count": 59,
     "metadata": {},
     "output_type": "execute_result"
    }
   ],
   "source": [
    "round(ri.groupby('driver_gender')['search_conducted'].mean() * 100, 2)"
   ]
  },
  {
   "cell_type": "code",
   "execution_count": 60,
   "metadata": {},
   "outputs": [
    {
     "data": {
      "text/plain": [
       "driver_gender\n",
       "F    1.78\n",
       "M    5.12\n",
       "Name: search_conducted, dtype: float64"
      ]
     },
     "execution_count": 60,
     "metadata": {},
     "output_type": "execute_result"
    }
   ],
   "source": [
    "round(ri.groupby('driver_gender').search_conducted.mean() * 100, 2)"
   ]
  },
  {
   "cell_type": "markdown",
   "metadata": {},
   "source": [
    "**INSTRUCTIONS 3/3**\n",
    "\n",
    "*   Group by driver gender to calculate the search rate for both groups simultaneously. (It should match the previous results.)"
   ]
  },
  {
   "cell_type": "code",
   "execution_count": 61,
   "metadata": {},
   "outputs": [
    {
     "data": {
      "text/plain": [
       "Index(['id', 'location_raw', 'police_department', 'driver_gender',\n",
       "       'driver_age_raw', 'driver_age', 'driver_race_raw', 'driver_race',\n",
       "       'violation_raw', 'violation', 'search_conducted', 'search_type_raw',\n",
       "       'search_type', 'contraband_found', 'stop_outcome', 'is_arrested',\n",
       "       'stop_duration', 'out_of_state', 'drugs_related_stop', 'district'],\n",
       "      dtype='object')"
      ]
     },
     "execution_count": 61,
     "metadata": {},
     "output_type": "execute_result"
    }
   ],
   "source": [
    "ri.columns"
   ]
  },
  {
   "cell_type": "code",
   "execution_count": 62,
   "metadata": {
    "scrolled": true
   },
   "outputs": [
    {
     "data": {
      "text/plain": [
       "array(['Speeding', 'Equipment', 'Other', 'Moving violation',\n",
       "       'Registration/plates'], dtype=object)"
      ]
     },
     "execution_count": 62,
     "metadata": {},
     "output_type": "execute_result"
    }
   ],
   "source": [
    "ri.violation.unique()"
   ]
  },
  {
   "cell_type": "code",
   "execution_count": 63,
   "metadata": {},
   "outputs": [
    {
     "data": {
      "text/html": [
       "<div>\n",
       "<style scoped>\n",
       "    .dataframe tbody tr th:only-of-type {\n",
       "        vertical-align: middle;\n",
       "    }\n",
       "\n",
       "    .dataframe tbody tr th {\n",
       "        vertical-align: top;\n",
       "    }\n",
       "\n",
       "    .dataframe thead th {\n",
       "        text-align: right;\n",
       "    }\n",
       "</style>\n",
       "<table border=\"1\" class=\"dataframe\">\n",
       "  <thead>\n",
       "    <tr style=\"text-align: right;\">\n",
       "      <th></th>\n",
       "      <th></th>\n",
       "      <th>search_conducted</th>\n",
       "    </tr>\n",
       "    <tr>\n",
       "      <th>driver_gender</th>\n",
       "      <th>violation</th>\n",
       "      <th></th>\n",
       "    </tr>\n",
       "  </thead>\n",
       "  <tbody>\n",
       "    <tr>\n",
       "      <th rowspan=\"5\" valign=\"top\">F</th>\n",
       "      <th>Equipment</th>\n",
       "      <td>7.91</td>\n",
       "    </tr>\n",
       "    <tr>\n",
       "      <th>Moving violation</th>\n",
       "      <td>4.78</td>\n",
       "    </tr>\n",
       "    <tr>\n",
       "      <th>Other</th>\n",
       "      <td>4.52</td>\n",
       "    </tr>\n",
       "    <tr>\n",
       "      <th>Registration/plates</th>\n",
       "      <td>11.44</td>\n",
       "    </tr>\n",
       "    <tr>\n",
       "      <th>Speeding</th>\n",
       "      <td>0.69</td>\n",
       "    </tr>\n",
       "    <tr>\n",
       "      <th rowspan=\"5\" valign=\"top\">M</th>\n",
       "      <th>Equipment</th>\n",
       "      <td>12.34</td>\n",
       "    </tr>\n",
       "    <tr>\n",
       "      <th>Moving violation</th>\n",
       "      <td>8.88</td>\n",
       "    </tr>\n",
       "    <tr>\n",
       "      <th>Other</th>\n",
       "      <td>15.50</td>\n",
       "    </tr>\n",
       "    <tr>\n",
       "      <th>Registration/plates</th>\n",
       "      <td>17.15</td>\n",
       "    </tr>\n",
       "    <tr>\n",
       "      <th>Speeding</th>\n",
       "      <td>2.86</td>\n",
       "    </tr>\n",
       "  </tbody>\n",
       "</table>\n",
       "</div>"
      ],
      "text/plain": [
       "                                   search_conducted\n",
       "driver_gender violation                            \n",
       "F             Equipment                        7.91\n",
       "              Moving violation                 4.78\n",
       "              Other                            4.52\n",
       "              Registration/plates             11.44\n",
       "              Speeding                         0.69\n",
       "M             Equipment                       12.34\n",
       "              Moving violation                 8.88\n",
       "              Other                           15.50\n",
       "              Registration/plates             17.15\n",
       "              Speeding                         2.86"
      ]
     },
     "execution_count": 63,
     "metadata": {},
     "output_type": "execute_result"
    }
   ],
   "source": [
    "round(ri.groupby(['driver_gender', 'violation'])[['search_conducted']].mean() * 100, 2)"
   ]
  },
  {
   "cell_type": "code",
   "execution_count": 64,
   "metadata": {},
   "outputs": [
    {
     "data": {
      "text/plain": [
       "Incident to Arrest                                          958\n",
       "Probable Cause                                              244\n",
       "Protective Frisk                                            204\n",
       "Inventory                                                   117\n",
       "Incident to Arrest,Inventory                                116\n",
       "Incident to Arrest,Probable Cause                            76\n",
       "Incident to Arrest,Protective Frisk                          63\n",
       "Reasonable Suspicion                                         43\n",
       "Probable Cause,Protective Frisk                              36\n",
       "Incident to Arrest,Inventory,Protective Frisk                33\n",
       "Inventory,Protective Frisk                                   23\n",
       "Incident to Arrest,Probable Cause,Protective Frisk           20\n",
       "Incident to Arrest,Inventory,Probable Cause                  19\n",
       "Protective Frisk,Reasonable Suspicion                        16\n",
       "Inventory,Probable Cause                                     16\n",
       "Probable Cause,Reasonable Suspicion                          12\n",
       "Incident to Arrest,Reasonable Suspicion                       5\n",
       "Probable Cause,Protective Frisk,Reasonable Suspicion          5\n",
       "Inventory,Probable Cause,Protective Frisk                     2\n",
       "Inventory,Reasonable Suspicion                                1\n",
       "Incident to Arrest,Probable Cause,Reasonable Suspicion        1\n",
       "Incident to Arrest,Protective Frisk,Reasonable Suspicion      1\n",
       "Incident to Arrest,Inventory,Reasonable Suspicion             1\n",
       "Name: search_type, dtype: int64"
      ]
     },
     "execution_count": 64,
     "metadata": {},
     "output_type": "execute_result"
    }
   ],
   "source": [
    "ri.search_type.value_counts()"
   ]
  },
  {
   "cell_type": "code",
   "execution_count": 65,
   "metadata": {},
   "outputs": [
    {
     "data": {
      "text/html": [
       "<div>\n",
       "<style scoped>\n",
       "    .dataframe tbody tr th:only-of-type {\n",
       "        vertical-align: middle;\n",
       "    }\n",
       "\n",
       "    .dataframe tbody tr th {\n",
       "        vertical-align: top;\n",
       "    }\n",
       "\n",
       "    .dataframe thead th {\n",
       "        text-align: right;\n",
       "    }\n",
       "</style>\n",
       "<table border=\"1\" class=\"dataframe\">\n",
       "  <thead>\n",
       "    <tr style=\"text-align: right;\">\n",
       "      <th></th>\n",
       "      <th>id</th>\n",
       "      <th>location_raw</th>\n",
       "      <th>police_department</th>\n",
       "      <th>driver_gender</th>\n",
       "      <th>driver_age_raw</th>\n",
       "      <th>driver_age</th>\n",
       "      <th>driver_race_raw</th>\n",
       "      <th>driver_race</th>\n",
       "      <th>violation_raw</th>\n",
       "      <th>violation</th>\n",
       "      <th>search_conducted</th>\n",
       "      <th>search_type_raw</th>\n",
       "      <th>search_type</th>\n",
       "      <th>contraband_found</th>\n",
       "      <th>stop_outcome</th>\n",
       "      <th>is_arrested</th>\n",
       "      <th>stop_duration</th>\n",
       "      <th>out_of_state</th>\n",
       "      <th>drugs_related_stop</th>\n",
       "      <th>district</th>\n",
       "    </tr>\n",
       "    <tr>\n",
       "      <th>stop_datetime</th>\n",
       "      <th></th>\n",
       "      <th></th>\n",
       "      <th></th>\n",
       "      <th></th>\n",
       "      <th></th>\n",
       "      <th></th>\n",
       "      <th></th>\n",
       "      <th></th>\n",
       "      <th></th>\n",
       "      <th></th>\n",
       "      <th></th>\n",
       "      <th></th>\n",
       "      <th></th>\n",
       "      <th></th>\n",
       "      <th></th>\n",
       "      <th></th>\n",
       "      <th></th>\n",
       "      <th></th>\n",
       "      <th></th>\n",
       "      <th></th>\n",
       "    </tr>\n",
       "  </thead>\n",
       "  <tbody>\n",
       "    <tr>\n",
       "      <th>2005-10-06 21:35:00</th>\n",
       "      <td>RI-2005-01027</td>\n",
       "      <td>Zone X4</td>\n",
       "      <td>500</td>\n",
       "      <td>M</td>\n",
       "      <td>1966.0</td>\n",
       "      <td>39.0</td>\n",
       "      <td>W</td>\n",
       "      <td>White</td>\n",
       "      <td>Speeding</td>\n",
       "      <td>Speeding</td>\n",
       "      <td>True</td>\n",
       "      <td>Terry Frisk</td>\n",
       "      <td>Protective Frisk</td>\n",
       "      <td>False</td>\n",
       "      <td>Citation</td>\n",
       "      <td>False</td>\n",
       "      <td>0-15 Min</td>\n",
       "      <td>False</td>\n",
       "      <td>False</td>\n",
       "      <td>Zone X4</td>\n",
       "    </tr>\n",
       "    <tr>\n",
       "      <th>2005-10-07 11:33:00</th>\n",
       "      <td>RI-2005-01121</td>\n",
       "      <td>Zone X4</td>\n",
       "      <td>900</td>\n",
       "      <td>M</td>\n",
       "      <td>1980.0</td>\n",
       "      <td>25.0</td>\n",
       "      <td>W</td>\n",
       "      <td>White</td>\n",
       "      <td>Equipment/Inspection Violation</td>\n",
       "      <td>Equipment</td>\n",
       "      <td>True</td>\n",
       "      <td>Terry Frisk</td>\n",
       "      <td>Protective Frisk</td>\n",
       "      <td>False</td>\n",
       "      <td>Arrest Driver</td>\n",
       "      <td>True</td>\n",
       "      <td>16-30 Min</td>\n",
       "      <td>False</td>\n",
       "      <td>False</td>\n",
       "      <td>Zone X4</td>\n",
       "    </tr>\n",
       "    <tr>\n",
       "      <th>2005-10-09 19:20:00</th>\n",
       "      <td>RI-2005-01474</td>\n",
       "      <td>Zone K3</td>\n",
       "      <td>300</td>\n",
       "      <td>M</td>\n",
       "      <td>1962.0</td>\n",
       "      <td>43.0</td>\n",
       "      <td>W</td>\n",
       "      <td>White</td>\n",
       "      <td>Speeding</td>\n",
       "      <td>Speeding</td>\n",
       "      <td>True</td>\n",
       "      <td>Terry Frisk</td>\n",
       "      <td>Protective Frisk</td>\n",
       "      <td>False</td>\n",
       "      <td>Citation</td>\n",
       "      <td>False</td>\n",
       "      <td>0-15 Min</td>\n",
       "      <td>False</td>\n",
       "      <td>False</td>\n",
       "      <td>Zone K3</td>\n",
       "    </tr>\n",
       "    <tr>\n",
       "      <th>2005-10-10 07:00:00</th>\n",
       "      <td>RI-2005-01548</td>\n",
       "      <td>Zone X4</td>\n",
       "      <td>500</td>\n",
       "      <td>M</td>\n",
       "      <td>1970.0</td>\n",
       "      <td>35.0</td>\n",
       "      <td>W</td>\n",
       "      <td>White</td>\n",
       "      <td>Speeding</td>\n",
       "      <td>Speeding</td>\n",
       "      <td>True</td>\n",
       "      <td>Terry Frisk</td>\n",
       "      <td>Protective Frisk</td>\n",
       "      <td>False</td>\n",
       "      <td>Arrest Passenger</td>\n",
       "      <td>True</td>\n",
       "      <td>0-15 Min</td>\n",
       "      <td>False</td>\n",
       "      <td>False</td>\n",
       "      <td>Zone X4</td>\n",
       "    </tr>\n",
       "    <tr>\n",
       "      <th>2005-10-12 20:30:00</th>\n",
       "      <td>RI-2005-01871</td>\n",
       "      <td>Zone K3</td>\n",
       "      <td>300</td>\n",
       "      <td>M</td>\n",
       "      <td>1987.0</td>\n",
       "      <td>18.0</td>\n",
       "      <td>H</td>\n",
       "      <td>Hispanic</td>\n",
       "      <td>Other Traffic Violation</td>\n",
       "      <td>Moving violation</td>\n",
       "      <td>True</td>\n",
       "      <td>Terry Frisk</td>\n",
       "      <td>Protective Frisk</td>\n",
       "      <td>False</td>\n",
       "      <td>Arrest Driver</td>\n",
       "      <td>True</td>\n",
       "      <td>0-15 Min</td>\n",
       "      <td>False</td>\n",
       "      <td>False</td>\n",
       "      <td>Zone K3</td>\n",
       "    </tr>\n",
       "  </tbody>\n",
       "</table>\n",
       "</div>"
      ],
      "text/plain": [
       "                                id location_raw police_department  \\\n",
       "stop_datetime                                                       \n",
       "2005-10-06 21:35:00  RI-2005-01027      Zone X4               500   \n",
       "2005-10-07 11:33:00  RI-2005-01121      Zone X4               900   \n",
       "2005-10-09 19:20:00  RI-2005-01474      Zone K3               300   \n",
       "2005-10-10 07:00:00  RI-2005-01548      Zone X4               500   \n",
       "2005-10-12 20:30:00  RI-2005-01871      Zone K3               300   \n",
       "\n",
       "                    driver_gender  driver_age_raw  driver_age driver_race_raw  \\\n",
       "stop_datetime                                                                   \n",
       "2005-10-06 21:35:00             M          1966.0        39.0               W   \n",
       "2005-10-07 11:33:00             M          1980.0        25.0               W   \n",
       "2005-10-09 19:20:00             M          1962.0        43.0               W   \n",
       "2005-10-10 07:00:00             M          1970.0        35.0               W   \n",
       "2005-10-12 20:30:00             M          1987.0        18.0               H   \n",
       "\n",
       "                    driver_race                   violation_raw  \\\n",
       "stop_datetime                                                     \n",
       "2005-10-06 21:35:00       White                        Speeding   \n",
       "2005-10-07 11:33:00       White  Equipment/Inspection Violation   \n",
       "2005-10-09 19:20:00       White                        Speeding   \n",
       "2005-10-10 07:00:00       White                        Speeding   \n",
       "2005-10-12 20:30:00    Hispanic         Other Traffic Violation   \n",
       "\n",
       "                            violation  search_conducted search_type_raw  \\\n",
       "stop_datetime                                                             \n",
       "2005-10-06 21:35:00          Speeding              True     Terry Frisk   \n",
       "2005-10-07 11:33:00         Equipment              True     Terry Frisk   \n",
       "2005-10-09 19:20:00          Speeding              True     Terry Frisk   \n",
       "2005-10-10 07:00:00          Speeding              True     Terry Frisk   \n",
       "2005-10-12 20:30:00  Moving violation              True     Terry Frisk   \n",
       "\n",
       "                          search_type  contraband_found      stop_outcome  \\\n",
       "stop_datetime                                                               \n",
       "2005-10-06 21:35:00  Protective Frisk             False          Citation   \n",
       "2005-10-07 11:33:00  Protective Frisk             False     Arrest Driver   \n",
       "2005-10-09 19:20:00  Protective Frisk             False          Citation   \n",
       "2005-10-10 07:00:00  Protective Frisk             False  Arrest Passenger   \n",
       "2005-10-12 20:30:00  Protective Frisk             False     Arrest Driver   \n",
       "\n",
       "                     is_arrested stop_duration out_of_state  \\\n",
       "stop_datetime                                                 \n",
       "2005-10-06 21:35:00        False      0-15 Min        False   \n",
       "2005-10-07 11:33:00         True     16-30 Min        False   \n",
       "2005-10-09 19:20:00        False      0-15 Min        False   \n",
       "2005-10-10 07:00:00         True      0-15 Min        False   \n",
       "2005-10-12 20:30:00         True      0-15 Min        False   \n",
       "\n",
       "                     drugs_related_stop district  \n",
       "stop_datetime                                     \n",
       "2005-10-06 21:35:00               False  Zone X4  \n",
       "2005-10-07 11:33:00               False  Zone X4  \n",
       "2005-10-09 19:20:00               False  Zone K3  \n",
       "2005-10-10 07:00:00               False  Zone X4  \n",
       "2005-10-12 20:30:00               False  Zone K3  "
      ]
     },
     "execution_count": 65,
     "metadata": {},
     "output_type": "execute_result"
    }
   ],
   "source": [
    "ri[ri.search_type == 'Protective Frisk'].head()  # yeterli degil"
   ]
  },
  {
   "cell_type": "code",
   "execution_count": 66,
   "metadata": {},
   "outputs": [],
   "source": [
    "ri['frisk'] = ri.search_type.str.contains('Protective Frisk', na = False) # yeni sutun acip seri ekliyoruz"
   ]
  },
  {
   "cell_type": "code",
   "execution_count": 67,
   "metadata": {},
   "outputs": [
    {
     "data": {
      "text/html": [
       "<div>\n",
       "<style scoped>\n",
       "    .dataframe tbody tr th:only-of-type {\n",
       "        vertical-align: middle;\n",
       "    }\n",
       "\n",
       "    .dataframe tbody tr th {\n",
       "        vertical-align: top;\n",
       "    }\n",
       "\n",
       "    .dataframe thead th {\n",
       "        text-align: right;\n",
       "    }\n",
       "</style>\n",
       "<table border=\"1\" class=\"dataframe\">\n",
       "  <thead>\n",
       "    <tr style=\"text-align: right;\">\n",
       "      <th></th>\n",
       "      <th>id</th>\n",
       "      <th>location_raw</th>\n",
       "      <th>police_department</th>\n",
       "      <th>driver_gender</th>\n",
       "      <th>driver_age_raw</th>\n",
       "      <th>driver_age</th>\n",
       "      <th>driver_race_raw</th>\n",
       "      <th>driver_race</th>\n",
       "      <th>violation_raw</th>\n",
       "      <th>violation</th>\n",
       "      <th>...</th>\n",
       "      <th>search_type_raw</th>\n",
       "      <th>search_type</th>\n",
       "      <th>contraband_found</th>\n",
       "      <th>stop_outcome</th>\n",
       "      <th>is_arrested</th>\n",
       "      <th>stop_duration</th>\n",
       "      <th>out_of_state</th>\n",
       "      <th>drugs_related_stop</th>\n",
       "      <th>district</th>\n",
       "      <th>frisk</th>\n",
       "    </tr>\n",
       "    <tr>\n",
       "      <th>stop_datetime</th>\n",
       "      <th></th>\n",
       "      <th></th>\n",
       "      <th></th>\n",
       "      <th></th>\n",
       "      <th></th>\n",
       "      <th></th>\n",
       "      <th></th>\n",
       "      <th></th>\n",
       "      <th></th>\n",
       "      <th></th>\n",
       "      <th></th>\n",
       "      <th></th>\n",
       "      <th></th>\n",
       "      <th></th>\n",
       "      <th></th>\n",
       "      <th></th>\n",
       "      <th></th>\n",
       "      <th></th>\n",
       "      <th></th>\n",
       "      <th></th>\n",
       "      <th></th>\n",
       "    </tr>\n",
       "  </thead>\n",
       "  <tbody>\n",
       "    <tr>\n",
       "      <th>2005-01-02 01:55:00</th>\n",
       "      <td>RI-2005-00001</td>\n",
       "      <td>Zone K1</td>\n",
       "      <td>600</td>\n",
       "      <td>M</td>\n",
       "      <td>1985.0</td>\n",
       "      <td>20.0</td>\n",
       "      <td>W</td>\n",
       "      <td>White</td>\n",
       "      <td>Speeding</td>\n",
       "      <td>Speeding</td>\n",
       "      <td>...</td>\n",
       "      <td>NaN</td>\n",
       "      <td>NaN</td>\n",
       "      <td>False</td>\n",
       "      <td>Citation</td>\n",
       "      <td>False</td>\n",
       "      <td>0-15 Min</td>\n",
       "      <td>False</td>\n",
       "      <td>False</td>\n",
       "      <td>Zone K1</td>\n",
       "      <td>False</td>\n",
       "    </tr>\n",
       "    <tr>\n",
       "      <th>2005-01-02 20:30:00</th>\n",
       "      <td>RI-2005-00002</td>\n",
       "      <td>Zone X4</td>\n",
       "      <td>500</td>\n",
       "      <td>M</td>\n",
       "      <td>1987.0</td>\n",
       "      <td>18.0</td>\n",
       "      <td>W</td>\n",
       "      <td>White</td>\n",
       "      <td>Speeding</td>\n",
       "      <td>Speeding</td>\n",
       "      <td>...</td>\n",
       "      <td>NaN</td>\n",
       "      <td>NaN</td>\n",
       "      <td>False</td>\n",
       "      <td>Citation</td>\n",
       "      <td>False</td>\n",
       "      <td>16-30 Min</td>\n",
       "      <td>False</td>\n",
       "      <td>False</td>\n",
       "      <td>Zone X4</td>\n",
       "      <td>False</td>\n",
       "    </tr>\n",
       "  </tbody>\n",
       "</table>\n",
       "<p>2 rows × 21 columns</p>\n",
       "</div>"
      ],
      "text/plain": [
       "                                id location_raw police_department  \\\n",
       "stop_datetime                                                       \n",
       "2005-01-02 01:55:00  RI-2005-00001      Zone K1               600   \n",
       "2005-01-02 20:30:00  RI-2005-00002      Zone X4               500   \n",
       "\n",
       "                    driver_gender  driver_age_raw  driver_age driver_race_raw  \\\n",
       "stop_datetime                                                                   \n",
       "2005-01-02 01:55:00             M          1985.0        20.0               W   \n",
       "2005-01-02 20:30:00             M          1987.0        18.0               W   \n",
       "\n",
       "                    driver_race violation_raw violation  ...  search_type_raw  \\\n",
       "stop_datetime                                            ...                    \n",
       "2005-01-02 01:55:00       White      Speeding  Speeding  ...              NaN   \n",
       "2005-01-02 20:30:00       White      Speeding  Speeding  ...              NaN   \n",
       "\n",
       "                    search_type contraband_found  stop_outcome is_arrested  \\\n",
       "stop_datetime                                                                \n",
       "2005-01-02 01:55:00         NaN            False      Citation       False   \n",
       "2005-01-02 20:30:00         NaN            False      Citation       False   \n",
       "\n",
       "                     stop_duration out_of_state drugs_related_stop  district  \\\n",
       "stop_datetime                                                                  \n",
       "2005-01-02 01:55:00       0-15 Min        False              False   Zone K1   \n",
       "2005-01-02 20:30:00      16-30 Min        False              False   Zone X4   \n",
       "\n",
       "                     frisk  \n",
       "stop_datetime               \n",
       "2005-01-02 01:55:00  False  \n",
       "2005-01-02 20:30:00  False  \n",
       "\n",
       "[2 rows x 21 columns]"
      ]
     },
     "execution_count": 67,
     "metadata": {},
     "output_type": "execute_result"
    }
   ],
   "source": [
    "ri.head(2)"
   ]
  },
  {
   "cell_type": "markdown",
   "metadata": {},
   "source": [
    "***"
   ]
  },
  {
   "cell_type": "markdown",
   "metadata": {},
   "source": [
    "## Adding a second factor to the analysis"
   ]
  },
  {
   "cell_type": "markdown",
   "metadata": {},
   "source": [
    "Even though the search rate for males is much higher than for females, it's possible that the difference is mostly due to a second factor.\n",
    "\n",
    "For example, you might hypothesize that the search rate varies by violation type, and the difference in search rate between males and females is because they tend to commit different violations.\n",
    "\n",
    "You can test this hypothesis by examining the search rate for each combination of gender and violation. If the hypothesis was true, you would find that males and females are searched at about the same rate for each violation. Find out below if that's the case!"
   ]
  },
  {
   "cell_type": "markdown",
   "metadata": {},
   "source": [
    "**INSTRUCTIONS 1/2**\n",
    "\n",
    "*   Use a ``.groupby()`` to calculate the search rate for each combination of gender and violation. Are males and females searched at about the same rate for each violation?"
   ]
  },
  {
   "cell_type": "code",
   "execution_count": null,
   "metadata": {},
   "outputs": [],
   "source": []
  },
  {
   "cell_type": "markdown",
   "metadata": {},
   "source": [
    "**INSTRUCTIONS 2/2**\n",
    "\n",
    "*   Reverse the ordering to group by violation before gender. The results may be easier to compare when presented this way."
   ]
  },
  {
   "cell_type": "code",
   "execution_count": null,
   "metadata": {},
   "outputs": [],
   "source": []
  },
  {
   "cell_type": "markdown",
   "metadata": {},
   "source": [
    "***"
   ]
  },
  {
   "cell_type": "markdown",
   "metadata": {},
   "source": [
    "## Counting protective frisks"
   ]
  },
  {
   "cell_type": "markdown",
   "metadata": {},
   "source": [
    "During a vehicle search, the police officer may pat down the driver to check if they have a weapon. This is known as a ``\"protective frisk.\"``\n",
    "\n",
    "You'll first check to see how many times \"Protective Frisk\" was the only search type. Then, you'll use a string method to locate all instances in which the driver was frisked."
   ]
  },
  {
   "cell_type": "markdown",
   "metadata": {},
   "source": [
    "**INSTRUCTIONS**\n",
    "\n",
    "*   Count the ``search_type`` values to see how many times ``\"Protective Frisk\"`` was the only search type.\n",
    "*   Create a new column, frisk, that is ``True`` if ``search_type`` contains the string ``\"Protective Frisk\"`` and ``False`` otherwise.\n",
    "*   Check the data type of frisk to confirm that it's a ``Boolean Series``.\n",
    "*   Take the sum of frisk to count the total number of frisks."
   ]
  },
  {
   "cell_type": "code",
   "execution_count": null,
   "metadata": {},
   "outputs": [],
   "source": []
  },
  {
   "cell_type": "markdown",
   "metadata": {},
   "source": [
    "***"
   ]
  },
  {
   "cell_type": "markdown",
   "metadata": {},
   "source": [
    "## Comparing frisk rates by gender"
   ]
  },
  {
   "cell_type": "markdown",
   "metadata": {},
   "source": [
    "You'll compare the rates at which female and male drivers are frisked during a search. Are males frisked more often than females, perhaps because police officers consider them to be higher risk?\n",
    "\n",
    "Before doing any calculations, it's important to filter the ``DataFrame`` to only include the relevant subset of data, namely stops in which a search was conducted."
   ]
  },
  {
   "cell_type": "markdown",
   "metadata": {},
   "source": [
    "**INSTRUCTIONS**\n",
    "\n",
    "*   Create a ``DataFrame``, searched, that only contains rows in which ``search_conducted`` is ``True``.\n",
    "*   Take the mean of the frisk column to find out what percentage of searches included a frisk.\n",
    "*   Calculate the frisk rate for each gender using a ``.groupby()``."
   ]
  },
  {
   "cell_type": "code",
   "execution_count": 59,
   "metadata": {},
   "outputs": [
    {
     "data": {
      "text/html": [
       "<div>\n",
       "<style scoped>\n",
       "    .dataframe tbody tr th:only-of-type {\n",
       "        vertical-align: middle;\n",
       "    }\n",
       "\n",
       "    .dataframe tbody tr th {\n",
       "        vertical-align: top;\n",
       "    }\n",
       "\n",
       "    .dataframe thead th {\n",
       "        text-align: right;\n",
       "    }\n",
       "</style>\n",
       "<table border=\"1\" class=\"dataframe\">\n",
       "  <thead>\n",
       "    <tr style=\"text-align: right;\">\n",
       "      <th></th>\n",
       "      <th>id</th>\n",
       "      <th>location_raw</th>\n",
       "      <th>police_department</th>\n",
       "      <th>driver_gender</th>\n",
       "      <th>driver_age_raw</th>\n",
       "      <th>driver_age</th>\n",
       "      <th>driver_race_raw</th>\n",
       "      <th>driver_race</th>\n",
       "      <th>violation_raw</th>\n",
       "      <th>violation</th>\n",
       "      <th>...</th>\n",
       "      <th>search_type_raw</th>\n",
       "      <th>search_type</th>\n",
       "      <th>contraband_found</th>\n",
       "      <th>stop_outcome</th>\n",
       "      <th>is_arrested</th>\n",
       "      <th>stop_duration</th>\n",
       "      <th>out_of_state</th>\n",
       "      <th>drugs_related_stop</th>\n",
       "      <th>district</th>\n",
       "      <th>frisk</th>\n",
       "    </tr>\n",
       "    <tr>\n",
       "      <th>stop_datetime</th>\n",
       "      <th></th>\n",
       "      <th></th>\n",
       "      <th></th>\n",
       "      <th></th>\n",
       "      <th></th>\n",
       "      <th></th>\n",
       "      <th></th>\n",
       "      <th></th>\n",
       "      <th></th>\n",
       "      <th></th>\n",
       "      <th></th>\n",
       "      <th></th>\n",
       "      <th></th>\n",
       "      <th></th>\n",
       "      <th></th>\n",
       "      <th></th>\n",
       "      <th></th>\n",
       "      <th></th>\n",
       "      <th></th>\n",
       "      <th></th>\n",
       "      <th></th>\n",
       "    </tr>\n",
       "  </thead>\n",
       "  <tbody>\n",
       "    <tr>\n",
       "      <th>2005-01-02 01:55:00</th>\n",
       "      <td>RI-2005-00001</td>\n",
       "      <td>Zone K1</td>\n",
       "      <td>600</td>\n",
       "      <td>M</td>\n",
       "      <td>1985.0</td>\n",
       "      <td>20.0</td>\n",
       "      <td>W</td>\n",
       "      <td>White</td>\n",
       "      <td>Speeding</td>\n",
       "      <td>Speeding</td>\n",
       "      <td>...</td>\n",
       "      <td>NaN</td>\n",
       "      <td>NaN</td>\n",
       "      <td>False</td>\n",
       "      <td>Citation</td>\n",
       "      <td>False</td>\n",
       "      <td>0-15 Min</td>\n",
       "      <td>False</td>\n",
       "      <td>False</td>\n",
       "      <td>Zone K1</td>\n",
       "      <td>False</td>\n",
       "    </tr>\n",
       "    <tr>\n",
       "      <th>2005-01-02 20:30:00</th>\n",
       "      <td>RI-2005-00002</td>\n",
       "      <td>Zone X4</td>\n",
       "      <td>500</td>\n",
       "      <td>M</td>\n",
       "      <td>1987.0</td>\n",
       "      <td>18.0</td>\n",
       "      <td>W</td>\n",
       "      <td>White</td>\n",
       "      <td>Speeding</td>\n",
       "      <td>Speeding</td>\n",
       "      <td>...</td>\n",
       "      <td>NaN</td>\n",
       "      <td>NaN</td>\n",
       "      <td>False</td>\n",
       "      <td>Citation</td>\n",
       "      <td>False</td>\n",
       "      <td>16-30 Min</td>\n",
       "      <td>False</td>\n",
       "      <td>False</td>\n",
       "      <td>Zone X4</td>\n",
       "      <td>False</td>\n",
       "    </tr>\n",
       "    <tr>\n",
       "      <th>2005-01-04 12:55:00</th>\n",
       "      <td>RI-2005-00004</td>\n",
       "      <td>Zone X4</td>\n",
       "      <td>500</td>\n",
       "      <td>M</td>\n",
       "      <td>1986.0</td>\n",
       "      <td>19.0</td>\n",
       "      <td>W</td>\n",
       "      <td>White</td>\n",
       "      <td>Equipment/Inspection Violation</td>\n",
       "      <td>Equipment</td>\n",
       "      <td>...</td>\n",
       "      <td>NaN</td>\n",
       "      <td>NaN</td>\n",
       "      <td>False</td>\n",
       "      <td>Citation</td>\n",
       "      <td>False</td>\n",
       "      <td>0-15 Min</td>\n",
       "      <td>False</td>\n",
       "      <td>False</td>\n",
       "      <td>Zone X4</td>\n",
       "      <td>False</td>\n",
       "    </tr>\n",
       "    <tr>\n",
       "      <th>2005-01-06 01:30:00</th>\n",
       "      <td>RI-2005-00005</td>\n",
       "      <td>Zone X4</td>\n",
       "      <td>500</td>\n",
       "      <td>M</td>\n",
       "      <td>1978.0</td>\n",
       "      <td>27.0</td>\n",
       "      <td>B</td>\n",
       "      <td>Black</td>\n",
       "      <td>Equipment/Inspection Violation</td>\n",
       "      <td>Equipment</td>\n",
       "      <td>...</td>\n",
       "      <td>NaN</td>\n",
       "      <td>NaN</td>\n",
       "      <td>False</td>\n",
       "      <td>Citation</td>\n",
       "      <td>False</td>\n",
       "      <td>0-15 Min</td>\n",
       "      <td>False</td>\n",
       "      <td>False</td>\n",
       "      <td>Zone X4</td>\n",
       "      <td>False</td>\n",
       "    </tr>\n",
       "    <tr>\n",
       "      <th>2005-01-12 08:05:00</th>\n",
       "      <td>RI-2005-00006</td>\n",
       "      <td>Zone X1</td>\n",
       "      <td>0</td>\n",
       "      <td>M</td>\n",
       "      <td>1973.0</td>\n",
       "      <td>32.0</td>\n",
       "      <td>B</td>\n",
       "      <td>Black</td>\n",
       "      <td>Call for Service</td>\n",
       "      <td>Other</td>\n",
       "      <td>...</td>\n",
       "      <td>NaN</td>\n",
       "      <td>NaN</td>\n",
       "      <td>False</td>\n",
       "      <td>Citation</td>\n",
       "      <td>False</td>\n",
       "      <td>30+ Min</td>\n",
       "      <td>True</td>\n",
       "      <td>False</td>\n",
       "      <td>Zone X1</td>\n",
       "      <td>False</td>\n",
       "    </tr>\n",
       "    <tr>\n",
       "      <th>...</th>\n",
       "      <td>...</td>\n",
       "      <td>...</td>\n",
       "      <td>...</td>\n",
       "      <td>...</td>\n",
       "      <td>...</td>\n",
       "      <td>...</td>\n",
       "      <td>...</td>\n",
       "      <td>...</td>\n",
       "      <td>...</td>\n",
       "      <td>...</td>\n",
       "      <td>...</td>\n",
       "      <td>...</td>\n",
       "      <td>...</td>\n",
       "      <td>...</td>\n",
       "      <td>...</td>\n",
       "      <td>...</td>\n",
       "      <td>...</td>\n",
       "      <td>...</td>\n",
       "      <td>...</td>\n",
       "      <td>...</td>\n",
       "      <td>...</td>\n",
       "    </tr>\n",
       "    <tr>\n",
       "      <th>2006-08-08 22:45:00</th>\n",
       "      <td>RI-2006-35917</td>\n",
       "      <td>Zone K3</td>\n",
       "      <td>300</td>\n",
       "      <td>M</td>\n",
       "      <td>1973.0</td>\n",
       "      <td>33.0</td>\n",
       "      <td>B</td>\n",
       "      <td>Black</td>\n",
       "      <td>Equipment/Inspection Violation</td>\n",
       "      <td>Equipment</td>\n",
       "      <td>...</td>\n",
       "      <td>NaN</td>\n",
       "      <td>NaN</td>\n",
       "      <td>False</td>\n",
       "      <td>Citation</td>\n",
       "      <td>False</td>\n",
       "      <td>0-15 Min</td>\n",
       "      <td>False</td>\n",
       "      <td>False</td>\n",
       "      <td>Zone K3</td>\n",
       "      <td>False</td>\n",
       "    </tr>\n",
       "    <tr>\n",
       "      <th>2006-08-08 22:45:00</th>\n",
       "      <td>RI-2006-35918</td>\n",
       "      <td>Zone K3</td>\n",
       "      <td>300</td>\n",
       "      <td>F</td>\n",
       "      <td>1971.0</td>\n",
       "      <td>35.0</td>\n",
       "      <td>B</td>\n",
       "      <td>Black</td>\n",
       "      <td>Speeding</td>\n",
       "      <td>Speeding</td>\n",
       "      <td>...</td>\n",
       "      <td>NaN</td>\n",
       "      <td>NaN</td>\n",
       "      <td>False</td>\n",
       "      <td>Citation</td>\n",
       "      <td>False</td>\n",
       "      <td>0-15 Min</td>\n",
       "      <td>True</td>\n",
       "      <td>False</td>\n",
       "      <td>Zone K3</td>\n",
       "      <td>False</td>\n",
       "    </tr>\n",
       "    <tr>\n",
       "      <th>2006-08-08 22:53:00</th>\n",
       "      <td>RI-2006-35919</td>\n",
       "      <td>Zone X4</td>\n",
       "      <td>500</td>\n",
       "      <td>M</td>\n",
       "      <td>1952.0</td>\n",
       "      <td>54.0</td>\n",
       "      <td>W</td>\n",
       "      <td>White</td>\n",
       "      <td>Speeding</td>\n",
       "      <td>Speeding</td>\n",
       "      <td>...</td>\n",
       "      <td>NaN</td>\n",
       "      <td>NaN</td>\n",
       "      <td>False</td>\n",
       "      <td>Citation</td>\n",
       "      <td>False</td>\n",
       "      <td>16-30 Min</td>\n",
       "      <td>True</td>\n",
       "      <td>False</td>\n",
       "      <td>Zone X4</td>\n",
       "      <td>False</td>\n",
       "    </tr>\n",
       "    <tr>\n",
       "      <th>2006-08-08 23:00:00</th>\n",
       "      <td>RI-2006-35920</td>\n",
       "      <td>Zone K1</td>\n",
       "      <td>600</td>\n",
       "      <td>F</td>\n",
       "      <td>1982.0</td>\n",
       "      <td>24.0</td>\n",
       "      <td>W</td>\n",
       "      <td>White</td>\n",
       "      <td>Speeding</td>\n",
       "      <td>Speeding</td>\n",
       "      <td>...</td>\n",
       "      <td>NaN</td>\n",
       "      <td>NaN</td>\n",
       "      <td>False</td>\n",
       "      <td>Citation</td>\n",
       "      <td>False</td>\n",
       "      <td>0-15 Min</td>\n",
       "      <td>False</td>\n",
       "      <td>False</td>\n",
       "      <td>Zone K1</td>\n",
       "      <td>False</td>\n",
       "    </tr>\n",
       "    <tr>\n",
       "      <th>2006-08-08 23:00:00</th>\n",
       "      <td>RI-2006-35921</td>\n",
       "      <td>Zone K3</td>\n",
       "      <td>300</td>\n",
       "      <td>M</td>\n",
       "      <td>1965.0</td>\n",
       "      <td>41.0</td>\n",
       "      <td>W</td>\n",
       "      <td>White</td>\n",
       "      <td>Speeding</td>\n",
       "      <td>Speeding</td>\n",
       "      <td>...</td>\n",
       "      <td>NaN</td>\n",
       "      <td>NaN</td>\n",
       "      <td>False</td>\n",
       "      <td>Citation</td>\n",
       "      <td>False</td>\n",
       "      <td>16-30 Min</td>\n",
       "      <td>False</td>\n",
       "      <td>False</td>\n",
       "      <td>Zone K3</td>\n",
       "      <td>False</td>\n",
       "    </tr>\n",
       "  </tbody>\n",
       "</table>\n",
       "<p>48010 rows × 21 columns</p>\n",
       "</div>"
      ],
      "text/plain": [
       "                                id location_raw police_department  \\\n",
       "stop_datetime                                                       \n",
       "2005-01-02 01:55:00  RI-2005-00001      Zone K1               600   \n",
       "2005-01-02 20:30:00  RI-2005-00002      Zone X4               500   \n",
       "2005-01-04 12:55:00  RI-2005-00004      Zone X4               500   \n",
       "2005-01-06 01:30:00  RI-2005-00005      Zone X4               500   \n",
       "2005-01-12 08:05:00  RI-2005-00006      Zone X1                 0   \n",
       "...                            ...          ...               ...   \n",
       "2006-08-08 22:45:00  RI-2006-35917      Zone K3               300   \n",
       "2006-08-08 22:45:00  RI-2006-35918      Zone K3               300   \n",
       "2006-08-08 22:53:00  RI-2006-35919      Zone X4               500   \n",
       "2006-08-08 23:00:00  RI-2006-35920      Zone K1               600   \n",
       "2006-08-08 23:00:00  RI-2006-35921      Zone K3               300   \n",
       "\n",
       "                    driver_gender  driver_age_raw  driver_age driver_race_raw  \\\n",
       "stop_datetime                                                                   \n",
       "2005-01-02 01:55:00             M          1985.0        20.0               W   \n",
       "2005-01-02 20:30:00             M          1987.0        18.0               W   \n",
       "2005-01-04 12:55:00             M          1986.0        19.0               W   \n",
       "2005-01-06 01:30:00             M          1978.0        27.0               B   \n",
       "2005-01-12 08:05:00             M          1973.0        32.0               B   \n",
       "...                           ...             ...         ...             ...   \n",
       "2006-08-08 22:45:00             M          1973.0        33.0               B   \n",
       "2006-08-08 22:45:00             F          1971.0        35.0               B   \n",
       "2006-08-08 22:53:00             M          1952.0        54.0               W   \n",
       "2006-08-08 23:00:00             F          1982.0        24.0               W   \n",
       "2006-08-08 23:00:00             M          1965.0        41.0               W   \n",
       "\n",
       "                    driver_race                   violation_raw  violation  \\\n",
       "stop_datetime                                                                \n",
       "2005-01-02 01:55:00       White                        Speeding   Speeding   \n",
       "2005-01-02 20:30:00       White                        Speeding   Speeding   \n",
       "2005-01-04 12:55:00       White  Equipment/Inspection Violation  Equipment   \n",
       "2005-01-06 01:30:00       Black  Equipment/Inspection Violation  Equipment   \n",
       "2005-01-12 08:05:00       Black                Call for Service      Other   \n",
       "...                         ...                             ...        ...   \n",
       "2006-08-08 22:45:00       Black  Equipment/Inspection Violation  Equipment   \n",
       "2006-08-08 22:45:00       Black                        Speeding   Speeding   \n",
       "2006-08-08 22:53:00       White                        Speeding   Speeding   \n",
       "2006-08-08 23:00:00       White                        Speeding   Speeding   \n",
       "2006-08-08 23:00:00       White                        Speeding   Speeding   \n",
       "\n",
       "                     ...  search_type_raw search_type contraband_found  \\\n",
       "stop_datetime        ...                                                 \n",
       "2005-01-02 01:55:00  ...              NaN         NaN            False   \n",
       "2005-01-02 20:30:00  ...              NaN         NaN            False   \n",
       "2005-01-04 12:55:00  ...              NaN         NaN            False   \n",
       "2005-01-06 01:30:00  ...              NaN         NaN            False   \n",
       "2005-01-12 08:05:00  ...              NaN         NaN            False   \n",
       "...                  ...              ...         ...              ...   \n",
       "2006-08-08 22:45:00  ...              NaN         NaN            False   \n",
       "2006-08-08 22:45:00  ...              NaN         NaN            False   \n",
       "2006-08-08 22:53:00  ...              NaN         NaN            False   \n",
       "2006-08-08 23:00:00  ...              NaN         NaN            False   \n",
       "2006-08-08 23:00:00  ...              NaN         NaN            False   \n",
       "\n",
       "                     stop_outcome is_arrested  stop_duration out_of_state  \\\n",
       "stop_datetime                                                               \n",
       "2005-01-02 01:55:00      Citation       False       0-15 Min        False   \n",
       "2005-01-02 20:30:00      Citation       False      16-30 Min        False   \n",
       "2005-01-04 12:55:00      Citation       False       0-15 Min        False   \n",
       "2005-01-06 01:30:00      Citation       False       0-15 Min        False   \n",
       "2005-01-12 08:05:00      Citation       False        30+ Min         True   \n",
       "...                           ...         ...            ...          ...   \n",
       "2006-08-08 22:45:00      Citation       False       0-15 Min        False   \n",
       "2006-08-08 22:45:00      Citation       False       0-15 Min         True   \n",
       "2006-08-08 22:53:00      Citation       False      16-30 Min         True   \n",
       "2006-08-08 23:00:00      Citation       False       0-15 Min        False   \n",
       "2006-08-08 23:00:00      Citation       False      16-30 Min        False   \n",
       "\n",
       "                    drugs_related_stop  district  frisk  \n",
       "stop_datetime                                            \n",
       "2005-01-02 01:55:00              False   Zone K1  False  \n",
       "2005-01-02 20:30:00              False   Zone X4  False  \n",
       "2005-01-04 12:55:00              False   Zone X4  False  \n",
       "2005-01-06 01:30:00              False   Zone X4  False  \n",
       "2005-01-12 08:05:00              False   Zone X1  False  \n",
       "...                                ...       ...    ...  \n",
       "2006-08-08 22:45:00              False   Zone K3  False  \n",
       "2006-08-08 22:45:00              False   Zone K3  False  \n",
       "2006-08-08 22:53:00              False   Zone X4  False  \n",
       "2006-08-08 23:00:00              False   Zone K1  False  \n",
       "2006-08-08 23:00:00              False   Zone K3  False  \n",
       "\n",
       "[48010 rows x 21 columns]"
      ]
     },
     "execution_count": 59,
     "metadata": {},
     "output_type": "execute_result"
    }
   ],
   "source": [
    "ri"
   ]
  },
  {
   "cell_type": "code",
   "execution_count": 60,
   "metadata": {},
   "outputs": [
    {
     "data": {
      "text/plain": [
       "stop_datetime\n",
       "2005-01-02 01:55:00    False\n",
       "2005-01-02 20:30:00    False\n",
       "2005-01-04 12:55:00    False\n",
       "2005-01-06 01:30:00    False\n",
       "2005-01-12 08:05:00    False\n",
       "                       ...  \n",
       "2006-08-08 22:45:00    False\n",
       "2006-08-08 22:45:00    False\n",
       "2006-08-08 22:53:00    False\n",
       "2006-08-08 23:00:00    False\n",
       "2006-08-08 23:00:00    False\n",
       "Name: search_conducted, Length: 48010, dtype: bool"
      ]
     },
     "execution_count": 60,
     "metadata": {},
     "output_type": "execute_result"
    }
   ],
   "source": [
    "ri.search_conducted  # seri dondurur"
   ]
  },
  {
   "cell_type": "code",
   "execution_count": 61,
   "metadata": {},
   "outputs": [
    {
     "data": {
      "text/plain": [
       "False    45998\n",
       "True      2012\n",
       "Name: search_conducted, dtype: int64"
      ]
     },
     "execution_count": 61,
     "metadata": {},
     "output_type": "execute_result"
    }
   ],
   "source": [
    "ri.search_conducted.value_counts()"
   ]
  },
  {
   "cell_type": "code",
   "execution_count": 62,
   "metadata": {},
   "outputs": [
    {
     "data": {
      "text/plain": [
       "stop_datetime\n",
       "2005-01-02 01:55:00    False\n",
       "2005-01-02 20:30:00    False\n",
       "2005-01-04 12:55:00    False\n",
       "2005-01-06 01:30:00    False\n",
       "2005-01-12 08:05:00    False\n",
       "                       ...  \n",
       "2006-08-08 22:45:00    False\n",
       "2006-08-08 22:45:00    False\n",
       "2006-08-08 22:53:00    False\n",
       "2006-08-08 23:00:00    False\n",
       "2006-08-08 23:00:00    False\n",
       "Name: search_conducted, Length: 48010, dtype: bool"
      ]
     },
     "execution_count": 62,
     "metadata": {},
     "output_type": "execute_result"
    }
   ],
   "source": [
    "ri.search_conducted"
   ]
  },
  {
   "cell_type": "code",
   "execution_count": 63,
   "metadata": {},
   "outputs": [],
   "source": [
    "searched = ri[ri.search_conducted] # boolen oldugu icin default True sarti dondurur"
   ]
  },
  {
   "cell_type": "code",
   "execution_count": 64,
   "metadata": {},
   "outputs": [
    {
     "name": "stdout",
     "output_type": "stream",
     "text": [
      "<class 'pandas.core.frame.DataFrame'>\n",
      "DatetimeIndex: 2012 entries, 2005-01-24 20:32:00 to 2006-08-08 22:22:00\n",
      "Data columns (total 21 columns):\n",
      " #   Column              Non-Null Count  Dtype  \n",
      "---  ------              --------------  -----  \n",
      " 0   id                  2012 non-null   object \n",
      " 1   location_raw        2012 non-null   object \n",
      " 2   police_department   2012 non-null   object \n",
      " 3   driver_gender       2012 non-null   object \n",
      " 4   driver_age_raw      2012 non-null   float64\n",
      " 5   driver_age          2010 non-null   float64\n",
      " 6   driver_race_raw     2012 non-null   object \n",
      " 7   driver_race         2012 non-null   object \n",
      " 8   violation_raw       2012 non-null   object \n",
      " 9   violation           2012 non-null   object \n",
      " 10  search_conducted    2012 non-null   bool   \n",
      " 11  search_type_raw     2012 non-null   object \n",
      " 12  search_type         2012 non-null   object \n",
      " 13  contraband_found    2012 non-null   bool   \n",
      " 14  stop_outcome        2012 non-null   object \n",
      " 15  is_arrested         2012 non-null   bool   \n",
      " 16  stop_duration       2012 non-null   object \n",
      " 17  out_of_state        2002 non-null   object \n",
      " 18  drugs_related_stop  2012 non-null   bool   \n",
      " 19  district            2012 non-null   object \n",
      " 20  frisk               2012 non-null   bool   \n",
      "dtypes: bool(5), float64(2), object(14)\n",
      "memory usage: 277.0+ KB\n"
     ]
    }
   ],
   "source": [
    "searched.info()"
   ]
  },
  {
   "cell_type": "code",
   "execution_count": 65,
   "metadata": {},
   "outputs": [
    {
     "data": {
      "text/plain": [
       "20.03"
      ]
     },
     "execution_count": 65,
     "metadata": {},
     "output_type": "execute_result"
    }
   ],
   "source": [
    "round(searched.frisk.mean() * 100, 2)"
   ]
  }
 ],
 "metadata": {
  "kernelspec": {
   "display_name": "Python 3",
   "language": "python",
   "name": "python3"
  },
  "language_info": {
   "codemirror_mode": {
    "name": "ipython",
    "version": 3
   },
   "file_extension": ".py",
   "mimetype": "text/x-python",
   "name": "python",
   "nbconvert_exporter": "python",
   "pygments_lexer": "ipython3",
   "version": "3.7.10"
  }
 },
 "nbformat": 4,
 "nbformat_minor": 4
}
